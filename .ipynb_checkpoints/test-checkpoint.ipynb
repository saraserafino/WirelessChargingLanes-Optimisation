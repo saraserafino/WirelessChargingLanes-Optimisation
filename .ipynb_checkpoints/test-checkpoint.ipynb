{
 "cells": [
  {
   "cell_type": "markdown",
   "id": "cda40853",
   "metadata": {},
   "source": [
    "# Test\n",
    "Notebook for testing the code on a small instance, following Braess Network of section 4.1 of the paper.\n",
    "\n",
    "_Nota per noi: showing that the implemented algorithm work (exact model and heuristics - if any) that can be run in seconds_"
   ]
  },
  {
   "cell_type": "code",
   "execution_count": null,
   "id": "bb2e8d0f",
   "metadata": {},
   "outputs": [],
   "source": [
    "import gurobipy as gb\n",
    "import numpy as np\n",
    "import matplotlib.pyplot as plt"
   ]
  }
 ],
 "metadata": {
  "kernelspec": {
   "display_name": "Python 3 (ipykernel)",
   "language": "python",
   "name": "python3"
  },
  "language_info": {
   "codemirror_mode": {
    "name": "ipython",
    "version": 3
   },
   "file_extension": ".py",
   "mimetype": "text/x-python",
   "name": "python",
   "nbconvert_exporter": "python",
   "pygments_lexer": "ipython3",
   "version": "3.11.3"
  }
 },
 "nbformat": 4,
 "nbformat_minor": 5
}
