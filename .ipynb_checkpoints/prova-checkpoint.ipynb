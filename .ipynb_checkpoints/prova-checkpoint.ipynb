{
 "cells": [
  {
   "cell_type": "code",
   "execution_count": 3,
   "id": "85006807",
   "metadata": {},
   "outputs": [
    {
     "data": {
      "text/plain": [
       "70"
      ]
     },
     "execution_count": 3,
     "metadata": {},
     "output_type": "execute_result"
    }
   ],
   "source": [
    "from optimisation import optimisation_model\n",
    "import networkx as nx\n",
    "import matplotlib.pyplot as plt\n",
    "\n",
    "# Script performing the scalability analysis, following Grid Networks of section 4.2 of the paper.\n",
    "\n",
    "## Nota per noi: to produce that/several plot in which you perform scalability analysis and the actual experiments of the test.\n",
    "# The code must take less than one night to run.\n",
    "\n",
    "# Set parameters of Grid-42\n",
    "link_length = {1: 0, 2: 900, 3: 2700, 4: 1800, 5: 900, 6: 900, 7: 900,\n",
    "               8: 900, 9: 900, 10: 900, 11: 2700, 12: 900, 13: 900, 14: 900,\n",
    "               15: 900, 16: 1800, 17: 1800, 18: 900, 19: 2700, 20: 1800, 21: 900,\n",
    "               22: 900, 23: 900, 24: 900, 25: 900, 26: 900, 27: 900, 28: 900,\n",
    "               29: 900, 30: 900, 31: 900, 32: 900, 33: 2700, 34: 900, 35: 900,\n",
    "               36: 900, 37: 900, 38: 900, 39: 1800, 40: 900, 41: 900, 42: 0}\n",
    "\n",
    "# Generate paths from edges\n",
    "edges = [\n",
    "    (1, 2), (3, 11), (12, 20), (21, 29), (30, 38), # 1st column-row (L shape)\n",
    "    (5, 13), (14, 22), (23, 31), (32, 39), # 2nd\n",
    "    (7, 15), (16, 24), (25, 33), (34, 40), # 3rd\n",
    "    (9, 17), (18, 26), (27, 35), (36, 41), # 4th\n",
    "    (1, 3), (3, 12), (12, 21), (21, 30), # 1st column\n",
    "    (5, 14), (14, 23), (23, 32), # 2nd\n",
    "    (7, 16), (16, 25), (25, 34), # 3rd\n",
    "    (9, 18), (18, 27), (27, 36), # 4th\n",
    "    (10, 19), (19, 28), (28, 37), (37, 42), # 5th\n",
    "    (2, 4), (4, 6), (6, 8), # 1st row\n",
    "    (11, 13), (13, 15), (15, 17), # 2nd\n",
    "    (20, 22), (22, 24), (24, 26), # 3rd\n",
    "    (29, 31), (31, 33), (33, 35), # 4th\n",
    "    (38, 39), (39, 40), (40, 41), # 5th\n",
    "    (2, 5), (4, 7), (6, 9), (8, 10), # 1st row-column (L tranposed shape)\n",
    "    (11, 14), (13, 16), (15, 18), (17, 19), # 2nd\n",
    "    (20, 23), (22, 25), (24, 27), (26, 28), # 3rd\n",
    "    (29, 32), (31, 34), (33, 36), (35, 37), # 4rd\n",
    "    (41, 42) # 5rd\n",
    "    ]\n",
    "G = nx.DiGraph()\n",
    "G.add_edges_from(edges)\n",
    "paths = list(nx.all_simple_paths(G, source=1, target=42))\n",
    "\n",
    "T = 30 # maximum time (in minutes)\n",
    "timestep = 0.5 # time steps (in minutes)\n",
    "scalability = True\n",
    "budget = 2700000\n",
    "\n",
    "#scalability_model42, x42, B42 = optimisation_model(link_length, paths, T, timestep, scalability, budget)"
   ]
  },
  {
   "cell_type": "code",
   "execution_count": 7,
   "id": "309b12be",
   "metadata": {},
   "outputs": [
    {
     "data": {
      "text/plain": [
       "280"
      ]
     },
     "execution_count": 7,
     "metadata": {},
     "output_type": "execute_result"
    }
   ],
   "source": [
    "# Set parameters of Grid-82\n",
    "link_length = {1: 0, 2: 900, 3: 2700, 4: 1800, 5: 900, 6: 900, 7: 900,\n",
    "               8: 900, 9: 900, 10: 900, 11: 2700, 12: 900, 13: 900, 14: 900,\n",
    "               15: 900, 16: 1800, 17: 1800, 18: 900, 19: 2700, 20: 1800, 21: 900,\n",
    "               22: 900, 23: 900, 24: 900, 25: 900, 26: 900, 27: 900, 28: 900,\n",
    "               29: 900, 30: 900, 31: 900, 32: 900, 33: 2700, 34: 900, 35: 900,\n",
    "               36: 900, 37: 900, 38: 900, 39: 1800, 40: 900, 41: 900, 42: 0}\n",
    "\n",
    "# Generate paths from edges\n",
    "edges = [\n",
    "    (1, 2), (3, 21), (22, 38), (39, 56), (57, 73), # 1st column-row (L shape)\n",
    "    (5, 23), (24, 40), (41, 58), (59, 74), # 2nd\n",
    "    (7, 25), (60, 75), # 3rd\n",
    "    (9, 26), (27, 44), (45, 61), (62, 76), # 4th\n",
    "    (11, 28), (29, 46), (63, 77), # 5th\n",
    "    (30, 48), (49, 64), (65, 78), # 6th\n",
    "    (15, 31), (32, 50), (51, 66), (67, 79), # 7th\n",
    "    (17, 33), (34, 52), (69, 80), # 8th\n",
    "    (19, 35), (36, 53), (54, 70), (71, 81), # 9th\n",
    "    (1, 3), (3, 22), (22, 39), (39, 57), # 1st column\n",
    "    (5, 24), (24, 41), (41, 59), # 2nd\n",
    "    (43, 60), # 3rd\n",
    "    (9, 27), (27, 45), (45, 62), # 4th\n",
    "    (11, 29), (29, 47), (47, 63), # 5th\n",
    "    (13, 30), (30, 49), (49, 65), # 6th\n",
    "    (15, 32), (32, 51), (51, 67), # 7th\n",
    "    (17, 34), # 8th\n",
    "    (19, 36), (36, 54), (54, 71), # 9th\n",
    "    (20, 37), (37, 55), (55, 72), (72, 82), # 10th\n",
    "    (2, 4), (4, 6), (6, 8), (8, 10), (10, 12), (12, 14), (14, 16), (16, 18), # 1st row\n",
    "    (21, 23), (23, 25), (25, 26), (26, 28), (31, 33), (33, 35), # 2nd\n",
    "    (38, 40), (40, 42), (42, 44), (44, 46), (46, 48), (48, 50), (50, 52), (52, 53), # 3rd\n",
    "    (56, 58), (64, 66), (66, 68), (68, 70), # 4th\n",
    "    (73, 74), (74, 75), (75, 76), (76, 77), (77, 78), (78, 79), (79, 80), (80, 81), # 5th\n",
    "    (2, 5), (4, 7), (6, 9), (8, 11), (10, 13), (12, 15), (14, 17), (16, 19), (18, 20), # 1st row-column (L tranposed shape)\n",
    "    (21, 24), (25, 27), (26, 29), (28, 30), (31, 34), (33, 36), (35, 37), # 2nd\n",
    "    (38, 41), (40, 43), (42, 45), (44, 47), (46, 49), (48, 51), (52, 54), (53, 55), # 3rd\n",
    "    (56, 59), (58, 60), (61, 63), (64, 67), (66, 69), (68, 71), (70, 72), # 4th\n",
    "    (81, 82) # 5th\n",
    "    ]\n",
    "G = nx.DiGraph()\n",
    "G.add_edges_from(edges)\n",
    "paths = list(nx.all_simple_paths(G, source=1, target=82))\n",
    "\n",
    "T = 30 # maximum time (in minutes)\n",
    "timestep = 0.5 # time steps (in minutes)\n",
    "scalability = True\n",
    "budget = 2700000\n",
    "\n",
    "#scalability_model82, x82, B82 = optimisation_model(link_length, paths, T, timestep, scalability, budget)"
   ]
  },
  {
   "cell_type": "code",
   "execution_count": 4,
   "id": "958273df",
   "metadata": {},
   "outputs": [
    {
     "name": "stdout",
     "output_type": "stream",
     "text": [
      "{1: 0, 2: 900, 3: 2700, 4: 1800, 5: 900, 6: 900, 7: 900, 8: 900, 9: 900, 10: 900, 11: 2700, 12: 900, 13: 900, 14: 900, 15: 900, 16: 1800, 17: 1800, 18: 900, 19: 2700, 20: 1800, 21: 900, 22: 900, 23: 900, 24: 900, 25: 900, 26: 900, 27: 900, 28: 900, 29: 900, 30: 900, 31: 900, 32: 900, 33: 2700, 34: 900, 35: 900, 36: 900, 37: 900, 38: 900, 39: 1800, 40: 900, 41: 900, 42: 0}\n"
     ]
    }
   ],
   "source": [
    "import json\n",
    "import networkx as nx\n",
    "\n",
    "# --- Leggi il file JSON ---\n",
    "with open(\"grid42.json\", \"r\") as f:\n",
    "    data = json.load(f)\n",
    "\n",
    "# --- Estrai dizionario e archi ---\n",
    "# Nota: le chiavi del dizionario JSON sono stringhe, quindi convertile in interi\n",
    "link_lengthee = {int(k): v for k, v in data[\"link_length\"].items()}\n",
    "edges = [tuple(edge) for edge in data[\"edges\"]]  # assicurati che siano tuple, non liste\n",
    "\n",
    "G = nx.DiGraph()\n",
    "G.add_edges_from(edges)\n",
    "pathsss = list(nx.all_simple_paths(G, source=1, target=42))\n",
    "print(link_lengthee)"
   ]
  }
 ],
 "metadata": {
  "kernelspec": {
   "display_name": "Python 3 (ipykernel)",
   "language": "python",
   "name": "python3"
  },
  "language_info": {
   "codemirror_mode": {
    "name": "ipython",
    "version": 3
   },
   "file_extension": ".py",
   "mimetype": "text/x-python",
   "name": "python",
   "nbconvert_exporter": "python",
   "pygments_lexer": "ipython3",
   "version": "3.11.3"
  }
 },
 "nbformat": 4,
 "nbformat_minor": 5
}
