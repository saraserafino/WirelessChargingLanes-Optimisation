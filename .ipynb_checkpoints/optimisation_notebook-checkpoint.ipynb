{
 "cells": [
  {
   "cell_type": "code",
   "execution_count": 1,
   "id": "325fbc5c",
   "metadata": {},
   "outputs": [],
   "source": [
    "from gurobipy import *\n",
    "import gurobipy as gb\n",
    "import numpy as np"
   ]
  },
  {
   "cell_type": "code",
   "execution_count": 2,
   "id": "38b0a164",
   "metadata": {},
   "outputs": [],
   "source": [
    "class EV: # Electric Vehicles\n",
    "    def __init__(self, scalability):\n",
    "        self.B0 = 0.35 # initial energy\n",
    "        self.energy = 0.35 # initial state of energy\n",
    "        if scalability is True: # For grid Network\n",
    "            self.Bmax = 1.0 # battery capacity\n",
    "        else: # For Braess networks\n",
    "            self.Bmax = 0.5\n",
    "        # Traffic parameters\n",
    "        self.Va = 900 # m/min, free-flow speed\n",
    "        self.Wa = 450 # m/min, backward speed\n",
    "        self.Ka = 0.12 # vehicles/min, jam density for each link 𝑎\n",
    "        self.Qa = 36 # vehicles * m / min^2, maximum flow capacity\n",
    "        self.Ca = 0.04 # vehicles/min, critical density\n",
    "        self.Da = 36 # vehicles/min, demand rate\n",
    "\n",
    "        self.omega = 0.33 # amount of energy received when traversing oncharging link per time unit\n",
    "        self.epsilon = 0.00018 # electricity consumption rate\n",
    "    \n",
    "\n",
    "class ICV: # Internal Combustion Vehicles\n",
    "    def __init__(self, scalability):\n",
    "        # Traffic parameters\n",
    "        self.Va = 900 # m/min, free-flow speed\n",
    "        self.Wa = 450 # m/min, backward speed\n",
    "        self.Ka = 0.12 # vehicles/min, jam density for each link 𝑎\n",
    "        self.Qa = 36 # vehicles * m / min^2, maximum flow capacity\n",
    "        self.Ca = 0.04 # vehicles/min, critical density\n",
    "        self.Da = 36 # vehicles/min, demand rate"
   ]
  },
  {
   "cell_type": "code",
   "execution_count": 64,
   "id": "1e651891",
   "metadata": {},
   "outputs": [],
   "source": [
    "# Chose some parameters:\n",
    "scalability = True # for grid networks, otherwise it is Braess network\n",
    "budget = 30000\n",
    "\n",
    "\n",
    "WCL = gb.Model()\n",
    "WCL.modelSense = gb.GRB.MAXIMIZE\n",
    "WCL.setParam('OutputFlag', 0) # this is used to quite the xpress outputs (no printing)\n",
    "\n",
    "M = [\"EV\", \"IVC\"] # class of vehicles\n",
    "\n",
    "# The following lisxts are taken with respect to problem scalability\n",
    "# seguendo le figure del paper\n",
    "# in un file apposito scriviamo il dizionario\n",
    "link_length = {1: 0, 2: 900, 3: 1800, 4: 900, 5: 3600, 6: 900, 7: 0}\n",
    "#link = [i for i in range(len(link_length))] # lista dei link es. (1,2),(1,3)\n",
    "link = list(link_length.keys())\n",
    "link_source = link[0]\n",
    "link_sink = link [-1]\n",
    "length = list(link_length.values())\n",
    "paths = [[1,2,4,6,7], [1,2,5,7], [1,3,6,7]] # lista dei percorsi\n",
    "timestep = 0.25 # time steps che dipende da scalabilità\n",
    "T = 60"
   ]
  },
  {
   "cell_type": "code",
   "execution_count": 93,
   "id": "f04971ad",
   "metadata": {},
   "outputs": [],
   "source": [
    "x = WCL.addVars(link, vtype=gb.GRB.BINARY) # 1 if link a has WCL\n",
    "y = WCL.addVars(M, len(paths), vtype=gb.GRB.BINARY) # 1 if path p is feasible for vehicle m\n",
    "B = WCL.addVars(link, len(paths), lb=0.0, ub=0.5) # state of energy, bounded between being positive and max capacity\n",
    "\n",
    "n = WCL.addVars(len(link), M, T, lb=0) # number of vehicles M on link 𝑎 at time t\n",
    "u = WCL.addVars(len(link), M, T, lb=0) # incoming traffic flow of vehicle M to link 𝑎 at time t\n",
    "v = WCL.addVars(len(link), M, T, lb=0) # outgoing traffic flow of vehicle M to link 𝑎 at time t\n",
    "f = WCL.addVars(len(link), len(link), M, T, lb=0) # upstream traffic of vehicle M at link b, coming from downstream traffic at link a\n",
    "# Already defined with the constraint of non-negativity (formula 24)"
   ]
  },
  {
   "cell_type": "code",
   "execution_count": 84,
   "id": "a21b75dd",
   "metadata": {},
   "outputs": [
    {
     "name": "stdout",
     "output_type": "stream",
     "text": [
      "{('EV', 0): <gurobi.Var *Awaiting Model Update*>, ('EV', 1): <gurobi.Var *Awaiting Model Update*>, ('EV', 2): <gurobi.Var *Awaiting Model Update*>, ('IVC', 0): <gurobi.Var *Awaiting Model Update*>, ('IVC', 1): <gurobi.Var *Awaiting Model Update*>, ('IVC', 2): <gurobi.Var *Awaiting Model Update*>}\n",
      "<gurobi.Var *Awaiting Model Update*>\n",
      "0\n"
     ]
    }
   ],
   "source": [
    "print(y)\n",
    "print(y[\"EV\",p])\n",
    "print(length[6])"
   ]
  },
  {
   "cell_type": "code",
   "execution_count": 87,
   "id": "819ff832",
   "metadata": {},
   "outputs": [
    {
     "data": {
      "text/plain": [
       "range(0, 7)"
      ]
     },
     "execution_count": 87,
     "metadata": {},
     "output_type": "execute_result"
    }
   ],
   "source": [
    "range(len(link))"
   ]
  },
  {
   "cell_type": "code",
   "execution_count": 89,
   "id": "2f05e1ff",
   "metadata": {},
   "outputs": [
    {
     "name": "stdout",
     "output_type": "stream",
     "text": [
      "b: 1 a 1\n",
      "b: 2 a 2\n",
      "b: 4 a 4\n",
      "b: 6 a 6\n",
      "b: 1 a 2\n",
      "b: 2 a 5\n",
      "b: 5 a 7\n",
      "b: 1 a 3\n",
      "b: 3 a 6\n",
      "b: 6 a 7\n"
     ]
    },
    {
     "data": {
      "text/plain": [
       "<gurobi.Constr *Awaiting Model Update*>"
      ]
     },
     "execution_count": 89,
     "metadata": {},
     "output_type": "execute_result"
    }
   ],
   "source": [
    "# Feasibility of path\n",
    "WCL.addConstr(gb.quicksum(length[a] * x[a+1] for a in range(len(link))) <= budget) # formula 3: budget\n",
    "# State of energy after travelling on link 𝑎 is no greater than the battery capacity\n",
    "for p in range(len(paths)):\n",
    "    # energia iniziale serve rimetterla?? tanto è già da EV. In caso:\n",
    "    # a0 = (paths[p][0], paths[p][1])\n",
    "    # WCL.addConstr(B[a0,p] == B0)\n",
    "    for i in range(1,len(paths[p])):\n",
    "        b = paths[p][i-1]\n",
    "        a = paths[p][i] if i+1<length[p] else b\n",
    "        print(f\"b:\",b,f\"a\",a)\n",
    "        # formula 5: state of energy after traversing link 𝑎 on path 𝑝\n",
    "        WCL.addConstr(B[a,p] <= B[b,p] -0.00018 * length[a-1] + 0.33 * length[a-1]/900 * x[a])\n",
    "    for a in link: # formula 6: feasibility of path. M chosen to be 1000\n",
    "        WCL.addConstr(B[a,p] >= 1000 * (y[\"EV\",p]) - 1)\n",
    "# Exactly one path must be chosen\n",
    "WCL.addConstr(gb.quicksum(y[\"EV\",p] for p in range(len(paths))) == 1)"
   ]
  },
  {
   "cell_type": "code",
   "execution_count": 94,
   "id": "6a6c383b",
   "metadata": {},
   "outputs": [
    {
     "name": "stdout",
     "output_type": "stream",
     "text": [
      "{(0, 'EV', 0): <gurobi.Var *Awaiting Model Update*>, (0, 'EV', 1): <gurobi.Var *Awaiting Model Update*>, (0, 'EV', 2): <gurobi.Var *Awaiting Model Update*>, (0, 'EV', 3): <gurobi.Var *Awaiting Model Update*>, (0, 'EV', 4): <gurobi.Var *Awaiting Model Update*>, (0, 'EV', 5): <gurobi.Var *Awaiting Model Update*>, (0, 'EV', 6): <gurobi.Var *Awaiting Model Update*>, (0, 'EV', 7): <gurobi.Var *Awaiting Model Update*>, (0, 'EV', 8): <gurobi.Var *Awaiting Model Update*>, (0, 'EV', 9): <gurobi.Var *Awaiting Model Update*>, (0, 'EV', 10): <gurobi.Var *Awaiting Model Update*>, (0, 'EV', 11): <gurobi.Var *Awaiting Model Update*>, (0, 'EV', 12): <gurobi.Var *Awaiting Model Update*>, (0, 'EV', 13): <gurobi.Var *Awaiting Model Update*>, (0, 'EV', 14): <gurobi.Var *Awaiting Model Update*>, (0, 'EV', 15): <gurobi.Var *Awaiting Model Update*>, (0, 'EV', 16): <gurobi.Var *Awaiting Model Update*>, (0, 'EV', 17): <gurobi.Var *Awaiting Model Update*>, (0, 'EV', 18): <gurobi.Var *Awaiting Model Update*>, (0, 'EV', 19): <gurobi.Var *Awaiting Model Update*>, (0, 'EV', 20): <gurobi.Var *Awaiting Model Update*>, (0, 'EV', 21): <gurobi.Var *Awaiting Model Update*>, (0, 'EV', 22): <gurobi.Var *Awaiting Model Update*>, (0, 'EV', 23): <gurobi.Var *Awaiting Model Update*>, (0, 'EV', 24): <gurobi.Var *Awaiting Model Update*>, (0, 'EV', 25): <gurobi.Var *Awaiting Model Update*>, (0, 'EV', 26): <gurobi.Var *Awaiting Model Update*>, (0, 'EV', 27): <gurobi.Var *Awaiting Model Update*>, (0, 'EV', 28): <gurobi.Var *Awaiting Model Update*>, (0, 'EV', 29): <gurobi.Var *Awaiting Model Update*>, (0, 'EV', 30): <gurobi.Var *Awaiting Model Update*>, (0, 'EV', 31): <gurobi.Var *Awaiting Model Update*>, (0, 'EV', 32): <gurobi.Var *Awaiting Model Update*>, (0, 'EV', 33): <gurobi.Var *Awaiting Model Update*>, (0, 'EV', 34): <gurobi.Var *Awaiting Model Update*>, (0, 'EV', 35): <gurobi.Var *Awaiting Model Update*>, (0, 'EV', 36): <gurobi.Var *Awaiting Model Update*>, (0, 'EV', 37): <gurobi.Var *Awaiting Model Update*>, (0, 'EV', 38): <gurobi.Var *Awaiting Model Update*>, (0, 'EV', 39): <gurobi.Var *Awaiting Model Update*>, (0, 'EV', 40): <gurobi.Var *Awaiting Model Update*>, (0, 'EV', 41): <gurobi.Var *Awaiting Model Update*>, (0, 'EV', 42): <gurobi.Var *Awaiting Model Update*>, (0, 'EV', 43): <gurobi.Var *Awaiting Model Update*>, (0, 'EV', 44): <gurobi.Var *Awaiting Model Update*>, (0, 'EV', 45): <gurobi.Var *Awaiting Model Update*>, (0, 'EV', 46): <gurobi.Var *Awaiting Model Update*>, (0, 'EV', 47): <gurobi.Var *Awaiting Model Update*>, (0, 'EV', 48): <gurobi.Var *Awaiting Model Update*>, (0, 'EV', 49): <gurobi.Var *Awaiting Model Update*>, (0, 'EV', 50): <gurobi.Var *Awaiting Model Update*>, (0, 'EV', 51): <gurobi.Var *Awaiting Model Update*>, (0, 'EV', 52): <gurobi.Var *Awaiting Model Update*>, (0, 'EV', 53): <gurobi.Var *Awaiting Model Update*>, (0, 'EV', 54): <gurobi.Var *Awaiting Model Update*>, (0, 'EV', 55): <gurobi.Var *Awaiting Model Update*>, (0, 'EV', 56): <gurobi.Var *Awaiting Model Update*>, (0, 'EV', 57): <gurobi.Var *Awaiting Model Update*>, (0, 'EV', 58): <gurobi.Var *Awaiting Model Update*>, (0, 'EV', 59): <gurobi.Var *Awaiting Model Update*>, (0, 'IVC', 0): <gurobi.Var *Awaiting Model Update*>, (0, 'IVC', 1): <gurobi.Var *Awaiting Model Update*>, (0, 'IVC', 2): <gurobi.Var *Awaiting Model Update*>, (0, 'IVC', 3): <gurobi.Var *Awaiting Model Update*>, (0, 'IVC', 4): <gurobi.Var *Awaiting Model Update*>, (0, 'IVC', 5): <gurobi.Var *Awaiting Model Update*>, (0, 'IVC', 6): <gurobi.Var *Awaiting Model Update*>, (0, 'IVC', 7): <gurobi.Var *Awaiting Model Update*>, (0, 'IVC', 8): <gurobi.Var *Awaiting Model Update*>, (0, 'IVC', 9): <gurobi.Var *Awaiting Model Update*>, (0, 'IVC', 10): <gurobi.Var *Awaiting Model Update*>, (0, 'IVC', 11): <gurobi.Var *Awaiting Model Update*>, (0, 'IVC', 12): <gurobi.Var *Awaiting Model Update*>, (0, 'IVC', 13): <gurobi.Var *Awaiting Model Update*>, (0, 'IVC', 14): <gurobi.Var *Awaiting Model Update*>, (0, 'IVC', 15): <gurobi.Var *Awaiting Model Update*>, (0, 'IVC', 16): <gurobi.Var *Awaiting Model Update*>, (0, 'IVC', 17): <gurobi.Var *Awaiting Model Update*>, (0, 'IVC', 18): <gurobi.Var *Awaiting Model Update*>, (0, 'IVC', 19): <gurobi.Var *Awaiting Model Update*>, (0, 'IVC', 20): <gurobi.Var *Awaiting Model Update*>, (0, 'IVC', 21): <gurobi.Var *Awaiting Model Update*>, (0, 'IVC', 22): <gurobi.Var *Awaiting Model Update*>, (0, 'IVC', 23): <gurobi.Var *Awaiting Model Update*>, (0, 'IVC', 24): <gurobi.Var *Awaiting Model Update*>, (0, 'IVC', 25): <gurobi.Var *Awaiting Model Update*>, (0, 'IVC', 26): <gurobi.Var *Awaiting Model Update*>, (0, 'IVC', 27): <gurobi.Var *Awaiting Model Update*>, (0, 'IVC', 28): <gurobi.Var *Awaiting Model Update*>, (0, 'IVC', 29): <gurobi.Var *Awaiting Model Update*>, (0, 'IVC', 30): <gurobi.Var *Awaiting Model Update*>, (0, 'IVC', 31): <gurobi.Var *Awaiting Model Update*>, (0, 'IVC', 32): <gurobi.Var *Awaiting Model Update*>, (0, 'IVC', 33): <gurobi.Var *Awaiting Model Update*>, (0, 'IVC', 34): <gurobi.Var *Awaiting Model Update*>, (0, 'IVC', 35): <gurobi.Var *Awaiting Model Update*>, (0, 'IVC', 36): <gurobi.Var *Awaiting Model Update*>, (0, 'IVC', 37): <gurobi.Var *Awaiting Model Update*>, (0, 'IVC', 38): <gurobi.Var *Awaiting Model Update*>, (0, 'IVC', 39): <gurobi.Var *Awaiting Model Update*>, (0, 'IVC', 40): <gurobi.Var *Awaiting Model Update*>, (0, 'IVC', 41): <gurobi.Var *Awaiting Model Update*>, (0, 'IVC', 42): <gurobi.Var *Awaiting Model Update*>, (0, 'IVC', 43): <gurobi.Var *Awaiting Model Update*>, (0, 'IVC', 44): <gurobi.Var *Awaiting Model Update*>, (0, 'IVC', 45): <gurobi.Var *Awaiting Model Update*>, (0, 'IVC', 46): <gurobi.Var *Awaiting Model Update*>, (0, 'IVC', 47): <gurobi.Var *Awaiting Model Update*>, (0, 'IVC', 48): <gurobi.Var *Awaiting Model Update*>, (0, 'IVC', 49): <gurobi.Var *Awaiting Model Update*>, (0, 'IVC', 50): <gurobi.Var *Awaiting Model Update*>, (0, 'IVC', 51): <gurobi.Var *Awaiting Model Update*>, (0, 'IVC', 52): <gurobi.Var *Awaiting Model Update*>, (0, 'IVC', 53): <gurobi.Var *Awaiting Model Update*>, (0, 'IVC', 54): <gurobi.Var *Awaiting Model Update*>, (0, 'IVC', 55): <gurobi.Var *Awaiting Model Update*>, (0, 'IVC', 56): <gurobi.Var *Awaiting Model Update*>, (0, 'IVC', 57): <gurobi.Var *Awaiting Model Update*>, (0, 'IVC', 58): <gurobi.Var *Awaiting Model Update*>, (0, 'IVC', 59): <gurobi.Var *Awaiting Model Update*>, (1, 'EV', 0): <gurobi.Var *Awaiting Model Update*>, (1, 'EV', 1): <gurobi.Var *Awaiting Model Update*>, (1, 'EV', 2): <gurobi.Var *Awaiting Model Update*>, (1, 'EV', 3): <gurobi.Var *Awaiting Model Update*>, (1, 'EV', 4): <gurobi.Var *Awaiting Model Update*>, (1, 'EV', 5): <gurobi.Var *Awaiting Model Update*>, (1, 'EV', 6): <gurobi.Var *Awaiting Model Update*>, (1, 'EV', 7): <gurobi.Var *Awaiting Model Update*>, (1, 'EV', 8): <gurobi.Var *Awaiting Model Update*>, (1, 'EV', 9): <gurobi.Var *Awaiting Model Update*>, (1, 'EV', 10): <gurobi.Var *Awaiting Model Update*>, (1, 'EV', 11): <gurobi.Var *Awaiting Model Update*>, (1, 'EV', 12): <gurobi.Var *Awaiting Model Update*>, (1, 'EV', 13): <gurobi.Var *Awaiting Model Update*>, (1, 'EV', 14): <gurobi.Var *Awaiting Model Update*>, (1, 'EV', 15): <gurobi.Var *Awaiting Model Update*>, (1, 'EV', 16): <gurobi.Var *Awaiting Model Update*>, (1, 'EV', 17): <gurobi.Var *Awaiting Model Update*>, (1, 'EV', 18): <gurobi.Var *Awaiting Model Update*>, (1, 'EV', 19): <gurobi.Var *Awaiting Model Update*>, (1, 'EV', 20): <gurobi.Var *Awaiting Model Update*>, (1, 'EV', 21): <gurobi.Var *Awaiting Model Update*>, (1, 'EV', 22): <gurobi.Var *Awaiting Model Update*>, (1, 'EV', 23): <gurobi.Var *Awaiting Model Update*>, (1, 'EV', 24): <gurobi.Var *Awaiting Model Update*>, (1, 'EV', 25): <gurobi.Var *Awaiting Model Update*>, (1, 'EV', 26): <gurobi.Var *Awaiting Model Update*>, (1, 'EV', 27): <gurobi.Var *Awaiting Model Update*>, (1, 'EV', 28): <gurobi.Var *Awaiting Model Update*>, (1, 'EV', 29): <gurobi.Var *Awaiting Model Update*>, (1, 'EV', 30): <gurobi.Var *Awaiting Model Update*>, (1, 'EV', 31): <gurobi.Var *Awaiting Model Update*>, (1, 'EV', 32): <gurobi.Var *Awaiting Model Update*>, (1, 'EV', 33): <gurobi.Var *Awaiting Model Update*>, (1, 'EV', 34): <gurobi.Var *Awaiting Model Update*>, (1, 'EV', 35): <gurobi.Var *Awaiting Model Update*>, (1, 'EV', 36): <gurobi.Var *Awaiting Model Update*>, (1, 'EV', 37): <gurobi.Var *Awaiting Model Update*>, (1, 'EV', 38): <gurobi.Var *Awaiting Model Update*>, (1, 'EV', 39): <gurobi.Var *Awaiting Model Update*>, (1, 'EV', 40): <gurobi.Var *Awaiting Model Update*>, (1, 'EV', 41): <gurobi.Var *Awaiting Model Update*>, (1, 'EV', 42): <gurobi.Var *Awaiting Model Update*>, (1, 'EV', 43): <gurobi.Var *Awaiting Model Update*>, (1, 'EV', 44): <gurobi.Var *Awaiting Model Update*>, (1, 'EV', 45): <gurobi.Var *Awaiting Model Update*>, (1, 'EV', 46): <gurobi.Var *Awaiting Model Update*>, (1, 'EV', 47): <gurobi.Var *Awaiting Model Update*>, (1, 'EV', 48): <gurobi.Var *Awaiting Model Update*>, (1, 'EV', 49): <gurobi.Var *Awaiting Model Update*>, (1, 'EV', 50): <gurobi.Var *Awaiting Model Update*>, (1, 'EV', 51): <gurobi.Var *Awaiting Model Update*>, (1, 'EV', 52): <gurobi.Var *Awaiting Model Update*>, (1, 'EV', 53): <gurobi.Var *Awaiting Model Update*>, (1, 'EV', 54): <gurobi.Var *Awaiting Model Update*>, (1, 'EV', 55): <gurobi.Var *Awaiting Model Update*>, (1, 'EV', 56): <gurobi.Var *Awaiting Model Update*>, (1, 'EV', 57): <gurobi.Var *Awaiting Model Update*>, (1, 'EV', 58): <gurobi.Var *Awaiting Model Update*>, (1, 'EV', 59): <gurobi.Var *Awaiting Model Update*>, (1, 'IVC', 0): <gurobi.Var *Awaiting Model Update*>, (1, 'IVC', 1): <gurobi.Var *Awaiting Model Update*>, (1, 'IVC', 2): <gurobi.Var *Awaiting Model Update*>, (1, 'IVC', 3): <gurobi.Var *Awaiting Model Update*>, (1, 'IVC', 4): <gurobi.Var *Awaiting Model Update*>, (1, 'IVC', 5): <gurobi.Var *Awaiting Model Update*>, (1, 'IVC', 6): <gurobi.Var *Awaiting Model Update*>, (1, 'IVC', 7): <gurobi.Var *Awaiting Model Update*>, (1, 'IVC', 8): <gurobi.Var *Awaiting Model Update*>, (1, 'IVC', 9): <gurobi.Var *Awaiting Model Update*>, (1, 'IVC', 10): <gurobi.Var *Awaiting Model Update*>, (1, 'IVC', 11): <gurobi.Var *Awaiting Model Update*>, (1, 'IVC', 12): <gurobi.Var *Awaiting Model Update*>, (1, 'IVC', 13): <gurobi.Var *Awaiting Model Update*>, (1, 'IVC', 14): <gurobi.Var *Awaiting Model Update*>, (1, 'IVC', 15): <gurobi.Var *Awaiting Model Update*>, (1, 'IVC', 16): <gurobi.Var *Awaiting Model Update*>, (1, 'IVC', 17): <gurobi.Var *Awaiting Model Update*>, (1, 'IVC', 18): <gurobi.Var *Awaiting Model Update*>, (1, 'IVC', 19): <gurobi.Var *Awaiting Model Update*>, (1, 'IVC', 20): <gurobi.Var *Awaiting Model Update*>, (1, 'IVC', 21): <gurobi.Var *Awaiting Model Update*>, (1, 'IVC', 22): <gurobi.Var *Awaiting Model Update*>, (1, 'IVC', 23): <gurobi.Var *Awaiting Model Update*>, (1, 'IVC', 24): <gurobi.Var *Awaiting Model Update*>, (1, 'IVC', 25): <gurobi.Var *Awaiting Model Update*>, (1, 'IVC', 26): <gurobi.Var *Awaiting Model Update*>, (1, 'IVC', 27): <gurobi.Var *Awaiting Model Update*>, (1, 'IVC', 28): <gurobi.Var *Awaiting Model Update*>, (1, 'IVC', 29): <gurobi.Var *Awaiting Model Update*>, (1, 'IVC', 30): <gurobi.Var *Awaiting Model Update*>, (1, 'IVC', 31): <gurobi.Var *Awaiting Model Update*>, (1, 'IVC', 32): <gurobi.Var *Awaiting Model Update*>, (1, 'IVC', 33): <gurobi.Var *Awaiting Model Update*>, (1, 'IVC', 34): <gurobi.Var *Awaiting Model Update*>, (1, 'IVC', 35): <gurobi.Var *Awaiting Model Update*>, (1, 'IVC', 36): <gurobi.Var *Awaiting Model Update*>, (1, 'IVC', 37): <gurobi.Var *Awaiting Model Update*>, (1, 'IVC', 38): <gurobi.Var *Awaiting Model Update*>, (1, 'IVC', 39): <gurobi.Var *Awaiting Model Update*>, (1, 'IVC', 40): <gurobi.Var *Awaiting Model Update*>, (1, 'IVC', 41): <gurobi.Var *Awaiting Model Update*>, (1, 'IVC', 42): <gurobi.Var *Awaiting Model Update*>, (1, 'IVC', 43): <gurobi.Var *Awaiting Model Update*>, (1, 'IVC', 44): <gurobi.Var *Awaiting Model Update*>, (1, 'IVC', 45): <gurobi.Var *Awaiting Model Update*>, (1, 'IVC', 46): <gurobi.Var *Awaiting Model Update*>, (1, 'IVC', 47): <gurobi.Var *Awaiting Model Update*>, (1, 'IVC', 48): <gurobi.Var *Awaiting Model Update*>, (1, 'IVC', 49): <gurobi.Var *Awaiting Model Update*>, (1, 'IVC', 50): <gurobi.Var *Awaiting Model Update*>, (1, 'IVC', 51): <gurobi.Var *Awaiting Model Update*>, (1, 'IVC', 52): <gurobi.Var *Awaiting Model Update*>, (1, 'IVC', 53): <gurobi.Var *Awaiting Model Update*>, (1, 'IVC', 54): <gurobi.Var *Awaiting Model Update*>, (1, 'IVC', 55): <gurobi.Var *Awaiting Model Update*>, (1, 'IVC', 56): <gurobi.Var *Awaiting Model Update*>, (1, 'IVC', 57): <gurobi.Var *Awaiting Model Update*>, (1, 'IVC', 58): <gurobi.Var *Awaiting Model Update*>, (1, 'IVC', 59): <gurobi.Var *Awaiting Model Update*>, (2, 'EV', 0): <gurobi.Var *Awaiting Model Update*>, (2, 'EV', 1): <gurobi.Var *Awaiting Model Update*>, (2, 'EV', 2): <gurobi.Var *Awaiting Model Update*>, (2, 'EV', 3): <gurobi.Var *Awaiting Model Update*>, (2, 'EV', 4): <gurobi.Var *Awaiting Model Update*>, (2, 'EV', 5): <gurobi.Var *Awaiting Model Update*>, (2, 'EV', 6): <gurobi.Var *Awaiting Model Update*>, (2, 'EV', 7): <gurobi.Var *Awaiting Model Update*>, (2, 'EV', 8): <gurobi.Var *Awaiting Model Update*>, (2, 'EV', 9): <gurobi.Var *Awaiting Model Update*>, (2, 'EV', 10): <gurobi.Var *Awaiting Model Update*>, (2, 'EV', 11): <gurobi.Var *Awaiting Model Update*>, (2, 'EV', 12): <gurobi.Var *Awaiting Model Update*>, (2, 'EV', 13): <gurobi.Var *Awaiting Model Update*>, (2, 'EV', 14): <gurobi.Var *Awaiting Model Update*>, (2, 'EV', 15): <gurobi.Var *Awaiting Model Update*>, (2, 'EV', 16): <gurobi.Var *Awaiting Model Update*>, (2, 'EV', 17): <gurobi.Var *Awaiting Model Update*>, (2, 'EV', 18): <gurobi.Var *Awaiting Model Update*>, (2, 'EV', 19): <gurobi.Var *Awaiting Model Update*>, (2, 'EV', 20): <gurobi.Var *Awaiting Model Update*>, (2, 'EV', 21): <gurobi.Var *Awaiting Model Update*>, (2, 'EV', 22): <gurobi.Var *Awaiting Model Update*>, (2, 'EV', 23): <gurobi.Var *Awaiting Model Update*>, (2, 'EV', 24): <gurobi.Var *Awaiting Model Update*>, (2, 'EV', 25): <gurobi.Var *Awaiting Model Update*>, (2, 'EV', 26): <gurobi.Var *Awaiting Model Update*>, (2, 'EV', 27): <gurobi.Var *Awaiting Model Update*>, (2, 'EV', 28): <gurobi.Var *Awaiting Model Update*>, (2, 'EV', 29): <gurobi.Var *Awaiting Model Update*>, (2, 'EV', 30): <gurobi.Var *Awaiting Model Update*>, (2, 'EV', 31): <gurobi.Var *Awaiting Model Update*>, (2, 'EV', 32): <gurobi.Var *Awaiting Model Update*>, (2, 'EV', 33): <gurobi.Var *Awaiting Model Update*>, (2, 'EV', 34): <gurobi.Var *Awaiting Model Update*>, (2, 'EV', 35): <gurobi.Var *Awaiting Model Update*>, (2, 'EV', 36): <gurobi.Var *Awaiting Model Update*>, (2, 'EV', 37): <gurobi.Var *Awaiting Model Update*>, (2, 'EV', 38): <gurobi.Var *Awaiting Model Update*>, (2, 'EV', 39): <gurobi.Var *Awaiting Model Update*>, (2, 'EV', 40): <gurobi.Var *Awaiting Model Update*>, (2, 'EV', 41): <gurobi.Var *Awaiting Model Update*>, (2, 'EV', 42): <gurobi.Var *Awaiting Model Update*>, (2, 'EV', 43): <gurobi.Var *Awaiting Model Update*>, (2, 'EV', 44): <gurobi.Var *Awaiting Model Update*>, (2, 'EV', 45): <gurobi.Var *Awaiting Model Update*>, (2, 'EV', 46): <gurobi.Var *Awaiting Model Update*>, (2, 'EV', 47): <gurobi.Var *Awaiting Model Update*>, (2, 'EV', 48): <gurobi.Var *Awaiting Model Update*>, (2, 'EV', 49): <gurobi.Var *Awaiting Model Update*>, (2, 'EV', 50): <gurobi.Var *Awaiting Model Update*>, (2, 'EV', 51): <gurobi.Var *Awaiting Model Update*>, (2, 'EV', 52): <gurobi.Var *Awaiting Model Update*>, (2, 'EV', 53): <gurobi.Var *Awaiting Model Update*>, (2, 'EV', 54): <gurobi.Var *Awaiting Model Update*>, (2, 'EV', 55): <gurobi.Var *Awaiting Model Update*>, (2, 'EV', 56): <gurobi.Var *Awaiting Model Update*>, (2, 'EV', 57): <gurobi.Var *Awaiting Model Update*>, (2, 'EV', 58): <gurobi.Var *Awaiting Model Update*>, (2, 'EV', 59): <gurobi.Var *Awaiting Model Update*>, (2, 'IVC', 0): <gurobi.Var *Awaiting Model Update*>, (2, 'IVC', 1): <gurobi.Var *Awaiting Model Update*>, (2, 'IVC', 2): <gurobi.Var *Awaiting Model Update*>, (2, 'IVC', 3): <gurobi.Var *Awaiting Model Update*>, (2, 'IVC', 4): <gurobi.Var *Awaiting Model Update*>, (2, 'IVC', 5): <gurobi.Var *Awaiting Model Update*>, (2, 'IVC', 6): <gurobi.Var *Awaiting Model Update*>, (2, 'IVC', 7): <gurobi.Var *Awaiting Model Update*>, (2, 'IVC', 8): <gurobi.Var *Awaiting Model Update*>, (2, 'IVC', 9): <gurobi.Var *Awaiting Model Update*>, (2, 'IVC', 10): <gurobi.Var *Awaiting Model Update*>, (2, 'IVC', 11): <gurobi.Var *Awaiting Model Update*>, (2, 'IVC', 12): <gurobi.Var *Awaiting Model Update*>, (2, 'IVC', 13): <gurobi.Var *Awaiting Model Update*>, (2, 'IVC', 14): <gurobi.Var *Awaiting Model Update*>, (2, 'IVC', 15): <gurobi.Var *Awaiting Model Update*>, (2, 'IVC', 16): <gurobi.Var *Awaiting Model Update*>, (2, 'IVC', 17): <gurobi.Var *Awaiting Model Update*>, (2, 'IVC', 18): <gurobi.Var *Awaiting Model Update*>, (2, 'IVC', 19): <gurobi.Var *Awaiting Model Update*>, (2, 'IVC', 20): <gurobi.Var *Awaiting Model Update*>, (2, 'IVC', 21): <gurobi.Var *Awaiting Model Update*>, (2, 'IVC', 22): <gurobi.Var *Awaiting Model Update*>, (2, 'IVC', 23): <gurobi.Var *Awaiting Model Update*>, (2, 'IVC', 24): <gurobi.Var *Awaiting Model Update*>, (2, 'IVC', 25): <gurobi.Var *Awaiting Model Update*>, (2, 'IVC', 26): <gurobi.Var *Awaiting Model Update*>, (2, 'IVC', 27): <gurobi.Var *Awaiting Model Update*>, (2, 'IVC', 28): <gurobi.Var *Awaiting Model Update*>, (2, 'IVC', 29): <gurobi.Var *Awaiting Model Update*>, (2, 'IVC', 30): <gurobi.Var *Awaiting Model Update*>, (2, 'IVC', 31): <gurobi.Var *Awaiting Model Update*>, (2, 'IVC', 32): <gurobi.Var *Awaiting Model Update*>, (2, 'IVC', 33): <gurobi.Var *Awaiting Model Update*>, (2, 'IVC', 34): <gurobi.Var *Awaiting Model Update*>, (2, 'IVC', 35): <gurobi.Var *Awaiting Model Update*>, (2, 'IVC', 36): <gurobi.Var *Awaiting Model Update*>, (2, 'IVC', 37): <gurobi.Var *Awaiting Model Update*>, (2, 'IVC', 38): <gurobi.Var *Awaiting Model Update*>, (2, 'IVC', 39): <gurobi.Var *Awaiting Model Update*>, (2, 'IVC', 40): <gurobi.Var *Awaiting Model Update*>, (2, 'IVC', 41): <gurobi.Var *Awaiting Model Update*>, (2, 'IVC', 42): <gurobi.Var *Awaiting Model Update*>, (2, 'IVC', 43): <gurobi.Var *Awaiting Model Update*>, (2, 'IVC', 44): <gurobi.Var *Awaiting Model Update*>, (2, 'IVC', 45): <gurobi.Var *Awaiting Model Update*>, (2, 'IVC', 46): <gurobi.Var *Awaiting Model Update*>, (2, 'IVC', 47): <gurobi.Var *Awaiting Model Update*>, (2, 'IVC', 48): <gurobi.Var *Awaiting Model Update*>, (2, 'IVC', 49): <gurobi.Var *Awaiting Model Update*>, (2, 'IVC', 50): <gurobi.Var *Awaiting Model Update*>, (2, 'IVC', 51): <gurobi.Var *Awaiting Model Update*>, (2, 'IVC', 52): <gurobi.Var *Awaiting Model Update*>, (2, 'IVC', 53): <gurobi.Var *Awaiting Model Update*>, (2, 'IVC', 54): <gurobi.Var *Awaiting Model Update*>, (2, 'IVC', 55): <gurobi.Var *Awaiting Model Update*>, (2, 'IVC', 56): <gurobi.Var *Awaiting Model Update*>, (2, 'IVC', 57): <gurobi.Var *Awaiting Model Update*>, (2, 'IVC', 58): <gurobi.Var *Awaiting Model Update*>, (2, 'IVC', 59): <gurobi.Var *Awaiting Model Update*>, (3, 'EV', 0): <gurobi.Var *Awaiting Model Update*>, (3, 'EV', 1): <gurobi.Var *Awaiting Model Update*>, (3, 'EV', 2): <gurobi.Var *Awaiting Model Update*>, (3, 'EV', 3): <gurobi.Var *Awaiting Model Update*>, (3, 'EV', 4): <gurobi.Var *Awaiting Model Update*>, (3, 'EV', 5): <gurobi.Var *Awaiting Model Update*>, (3, 'EV', 6): <gurobi.Var *Awaiting Model Update*>, (3, 'EV', 7): <gurobi.Var *Awaiting Model Update*>, (3, 'EV', 8): <gurobi.Var *Awaiting Model Update*>, (3, 'EV', 9): <gurobi.Var *Awaiting Model Update*>, (3, 'EV', 10): <gurobi.Var *Awaiting Model Update*>, (3, 'EV', 11): <gurobi.Var *Awaiting Model Update*>, (3, 'EV', 12): <gurobi.Var *Awaiting Model Update*>, (3, 'EV', 13): <gurobi.Var *Awaiting Model Update*>, (3, 'EV', 14): <gurobi.Var *Awaiting Model Update*>, (3, 'EV', 15): <gurobi.Var *Awaiting Model Update*>, (3, 'EV', 16): <gurobi.Var *Awaiting Model Update*>, (3, 'EV', 17): <gurobi.Var *Awaiting Model Update*>, (3, 'EV', 18): <gurobi.Var *Awaiting Model Update*>, (3, 'EV', 19): <gurobi.Var *Awaiting Model Update*>, (3, 'EV', 20): <gurobi.Var *Awaiting Model Update*>, (3, 'EV', 21): <gurobi.Var *Awaiting Model Update*>, (3, 'EV', 22): <gurobi.Var *Awaiting Model Update*>, (3, 'EV', 23): <gurobi.Var *Awaiting Model Update*>, (3, 'EV', 24): <gurobi.Var *Awaiting Model Update*>, (3, 'EV', 25): <gurobi.Var *Awaiting Model Update*>, (3, 'EV', 26): <gurobi.Var *Awaiting Model Update*>, (3, 'EV', 27): <gurobi.Var *Awaiting Model Update*>, (3, 'EV', 28): <gurobi.Var *Awaiting Model Update*>, (3, 'EV', 29): <gurobi.Var *Awaiting Model Update*>, (3, 'EV', 30): <gurobi.Var *Awaiting Model Update*>, (3, 'EV', 31): <gurobi.Var *Awaiting Model Update*>, (3, 'EV', 32): <gurobi.Var *Awaiting Model Update*>, (3, 'EV', 33): <gurobi.Var *Awaiting Model Update*>, (3, 'EV', 34): <gurobi.Var *Awaiting Model Update*>, (3, 'EV', 35): <gurobi.Var *Awaiting Model Update*>, (3, 'EV', 36): <gurobi.Var *Awaiting Model Update*>, (3, 'EV', 37): <gurobi.Var *Awaiting Model Update*>, (3, 'EV', 38): <gurobi.Var *Awaiting Model Update*>, (3, 'EV', 39): <gurobi.Var *Awaiting Model Update*>, (3, 'EV', 40): <gurobi.Var *Awaiting Model Update*>, (3, 'EV', 41): <gurobi.Var *Awaiting Model Update*>, (3, 'EV', 42): <gurobi.Var *Awaiting Model Update*>, (3, 'EV', 43): <gurobi.Var *Awaiting Model Update*>, (3, 'EV', 44): <gurobi.Var *Awaiting Model Update*>, (3, 'EV', 45): <gurobi.Var *Awaiting Model Update*>, (3, 'EV', 46): <gurobi.Var *Awaiting Model Update*>, (3, 'EV', 47): <gurobi.Var *Awaiting Model Update*>, (3, 'EV', 48): <gurobi.Var *Awaiting Model Update*>, (3, 'EV', 49): <gurobi.Var *Awaiting Model Update*>, (3, 'EV', 50): <gurobi.Var *Awaiting Model Update*>, (3, 'EV', 51): <gurobi.Var *Awaiting Model Update*>, (3, 'EV', 52): <gurobi.Var *Awaiting Model Update*>, (3, 'EV', 53): <gurobi.Var *Awaiting Model Update*>, (3, 'EV', 54): <gurobi.Var *Awaiting Model Update*>, (3, 'EV', 55): <gurobi.Var *Awaiting Model Update*>, (3, 'EV', 56): <gurobi.Var *Awaiting Model Update*>, (3, 'EV', 57): <gurobi.Var *Awaiting Model Update*>, (3, 'EV', 58): <gurobi.Var *Awaiting Model Update*>, (3, 'EV', 59): <gurobi.Var *Awaiting Model Update*>, (3, 'IVC', 0): <gurobi.Var *Awaiting Model Update*>, (3, 'IVC', 1): <gurobi.Var *Awaiting Model Update*>, (3, 'IVC', 2): <gurobi.Var *Awaiting Model Update*>, (3, 'IVC', 3): <gurobi.Var *Awaiting Model Update*>, (3, 'IVC', 4): <gurobi.Var *Awaiting Model Update*>, (3, 'IVC', 5): <gurobi.Var *Awaiting Model Update*>, (3, 'IVC', 6): <gurobi.Var *Awaiting Model Update*>, (3, 'IVC', 7): <gurobi.Var *Awaiting Model Update*>, (3, 'IVC', 8): <gurobi.Var *Awaiting Model Update*>, (3, 'IVC', 9): <gurobi.Var *Awaiting Model Update*>, (3, 'IVC', 10): <gurobi.Var *Awaiting Model Update*>, (3, 'IVC', 11): <gurobi.Var *Awaiting Model Update*>, (3, 'IVC', 12): <gurobi.Var *Awaiting Model Update*>, (3, 'IVC', 13): <gurobi.Var *Awaiting Model Update*>, (3, 'IVC', 14): <gurobi.Var *Awaiting Model Update*>, (3, 'IVC', 15): <gurobi.Var *Awaiting Model Update*>, (3, 'IVC', 16): <gurobi.Var *Awaiting Model Update*>, (3, 'IVC', 17): <gurobi.Var *Awaiting Model Update*>, (3, 'IVC', 18): <gurobi.Var *Awaiting Model Update*>, (3, 'IVC', 19): <gurobi.Var *Awaiting Model Update*>, (3, 'IVC', 20): <gurobi.Var *Awaiting Model Update*>, (3, 'IVC', 21): <gurobi.Var *Awaiting Model Update*>, (3, 'IVC', 22): <gurobi.Var *Awaiting Model Update*>, (3, 'IVC', 23): <gurobi.Var *Awaiting Model Update*>, (3, 'IVC', 24): <gurobi.Var *Awaiting Model Update*>, (3, 'IVC', 25): <gurobi.Var *Awaiting Model Update*>, (3, 'IVC', 26): <gurobi.Var *Awaiting Model Update*>, (3, 'IVC', 27): <gurobi.Var *Awaiting Model Update*>, (3, 'IVC', 28): <gurobi.Var *Awaiting Model Update*>, (3, 'IVC', 29): <gurobi.Var *Awaiting Model Update*>, (3, 'IVC', 30): <gurobi.Var *Awaiting Model Update*>, (3, 'IVC', 31): <gurobi.Var *Awaiting Model Update*>, (3, 'IVC', 32): <gurobi.Var *Awaiting Model Update*>, (3, 'IVC', 33): <gurobi.Var *Awaiting Model Update*>, (3, 'IVC', 34): <gurobi.Var *Awaiting Model Update*>, (3, 'IVC', 35): <gurobi.Var *Awaiting Model Update*>, (3, 'IVC', 36): <gurobi.Var *Awaiting Model Update*>, (3, 'IVC', 37): <gurobi.Var *Awaiting Model Update*>, (3, 'IVC', 38): <gurobi.Var *Awaiting Model Update*>, (3, 'IVC', 39): <gurobi.Var *Awaiting Model Update*>, (3, 'IVC', 40): <gurobi.Var *Awaiting Model Update*>, (3, 'IVC', 41): <gurobi.Var *Awaiting Model Update*>, (3, 'IVC', 42): <gurobi.Var *Awaiting Model Update*>, (3, 'IVC', 43): <gurobi.Var *Awaiting Model Update*>, (3, 'IVC', 44): <gurobi.Var *Awaiting Model Update*>, (3, 'IVC', 45): <gurobi.Var *Awaiting Model Update*>, (3, 'IVC', 46): <gurobi.Var *Awaiting Model Update*>, (3, 'IVC', 47): <gurobi.Var *Awaiting Model Update*>, (3, 'IVC', 48): <gurobi.Var *Awaiting Model Update*>, (3, 'IVC', 49): <gurobi.Var *Awaiting Model Update*>, (3, 'IVC', 50): <gurobi.Var *Awaiting Model Update*>, (3, 'IVC', 51): <gurobi.Var *Awaiting Model Update*>, (3, 'IVC', 52): <gurobi.Var *Awaiting Model Update*>, (3, 'IVC', 53): <gurobi.Var *Awaiting Model Update*>, (3, 'IVC', 54): <gurobi.Var *Awaiting Model Update*>, (3, 'IVC', 55): <gurobi.Var *Awaiting Model Update*>, (3, 'IVC', 56): <gurobi.Var *Awaiting Model Update*>, (3, 'IVC', 57): <gurobi.Var *Awaiting Model Update*>, (3, 'IVC', 58): <gurobi.Var *Awaiting Model Update*>, (3, 'IVC', 59): <gurobi.Var *Awaiting Model Update*>, (4, 'EV', 0): <gurobi.Var *Awaiting Model Update*>, (4, 'EV', 1): <gurobi.Var *Awaiting Model Update*>, (4, 'EV', 2): <gurobi.Var *Awaiting Model Update*>, (4, 'EV', 3): <gurobi.Var *Awaiting Model Update*>, (4, 'EV', 4): <gurobi.Var *Awaiting Model Update*>, (4, 'EV', 5): <gurobi.Var *Awaiting Model Update*>, (4, 'EV', 6): <gurobi.Var *Awaiting Model Update*>, (4, 'EV', 7): <gurobi.Var *Awaiting Model Update*>, (4, 'EV', 8): <gurobi.Var *Awaiting Model Update*>, (4, 'EV', 9): <gurobi.Var *Awaiting Model Update*>, (4, 'EV', 10): <gurobi.Var *Awaiting Model Update*>, (4, 'EV', 11): <gurobi.Var *Awaiting Model Update*>, (4, 'EV', 12): <gurobi.Var *Awaiting Model Update*>, (4, 'EV', 13): <gurobi.Var *Awaiting Model Update*>, (4, 'EV', 14): <gurobi.Var *Awaiting Model Update*>, (4, 'EV', 15): <gurobi.Var *Awaiting Model Update*>, (4, 'EV', 16): <gurobi.Var *Awaiting Model Update*>, (4, 'EV', 17): <gurobi.Var *Awaiting Model Update*>, (4, 'EV', 18): <gurobi.Var *Awaiting Model Update*>, (4, 'EV', 19): <gurobi.Var *Awaiting Model Update*>, (4, 'EV', 20): <gurobi.Var *Awaiting Model Update*>, (4, 'EV', 21): <gurobi.Var *Awaiting Model Update*>, (4, 'EV', 22): <gurobi.Var *Awaiting Model Update*>, (4, 'EV', 23): <gurobi.Var *Awaiting Model Update*>, (4, 'EV', 24): <gurobi.Var *Awaiting Model Update*>, (4, 'EV', 25): <gurobi.Var *Awaiting Model Update*>, (4, 'EV', 26): <gurobi.Var *Awaiting Model Update*>, (4, 'EV', 27): <gurobi.Var *Awaiting Model Update*>, (4, 'EV', 28): <gurobi.Var *Awaiting Model Update*>, (4, 'EV', 29): <gurobi.Var *Awaiting Model Update*>, (4, 'EV', 30): <gurobi.Var *Awaiting Model Update*>, (4, 'EV', 31): <gurobi.Var *Awaiting Model Update*>, (4, 'EV', 32): <gurobi.Var *Awaiting Model Update*>, (4, 'EV', 33): <gurobi.Var *Awaiting Model Update*>, (4, 'EV', 34): <gurobi.Var *Awaiting Model Update*>, (4, 'EV', 35): <gurobi.Var *Awaiting Model Update*>, (4, 'EV', 36): <gurobi.Var *Awaiting Model Update*>, (4, 'EV', 37): <gurobi.Var *Awaiting Model Update*>, (4, 'EV', 38): <gurobi.Var *Awaiting Model Update*>, (4, 'EV', 39): <gurobi.Var *Awaiting Model Update*>, (4, 'EV', 40): <gurobi.Var *Awaiting Model Update*>, (4, 'EV', 41): <gurobi.Var *Awaiting Model Update*>, (4, 'EV', 42): <gurobi.Var *Awaiting Model Update*>, (4, 'EV', 43): <gurobi.Var *Awaiting Model Update*>, (4, 'EV', 44): <gurobi.Var *Awaiting Model Update*>, (4, 'EV', 45): <gurobi.Var *Awaiting Model Update*>, (4, 'EV', 46): <gurobi.Var *Awaiting Model Update*>, (4, 'EV', 47): <gurobi.Var *Awaiting Model Update*>, (4, 'EV', 48): <gurobi.Var *Awaiting Model Update*>, (4, 'EV', 49): <gurobi.Var *Awaiting Model Update*>, (4, 'EV', 50): <gurobi.Var *Awaiting Model Update*>, (4, 'EV', 51): <gurobi.Var *Awaiting Model Update*>, (4, 'EV', 52): <gurobi.Var *Awaiting Model Update*>, (4, 'EV', 53): <gurobi.Var *Awaiting Model Update*>, (4, 'EV', 54): <gurobi.Var *Awaiting Model Update*>, (4, 'EV', 55): <gurobi.Var *Awaiting Model Update*>, (4, 'EV', 56): <gurobi.Var *Awaiting Model Update*>, (4, 'EV', 57): <gurobi.Var *Awaiting Model Update*>, (4, 'EV', 58): <gurobi.Var *Awaiting Model Update*>, (4, 'EV', 59): <gurobi.Var *Awaiting Model Update*>, (4, 'IVC', 0): <gurobi.Var *Awaiting Model Update*>, (4, 'IVC', 1): <gurobi.Var *Awaiting Model Update*>, (4, 'IVC', 2): <gurobi.Var *Awaiting Model Update*>, (4, 'IVC', 3): <gurobi.Var *Awaiting Model Update*>, (4, 'IVC', 4): <gurobi.Var *Awaiting Model Update*>, (4, 'IVC', 5): <gurobi.Var *Awaiting Model Update*>, (4, 'IVC', 6): <gurobi.Var *Awaiting Model Update*>, (4, 'IVC', 7): <gurobi.Var *Awaiting Model Update*>, (4, 'IVC', 8): <gurobi.Var *Awaiting Model Update*>, (4, 'IVC', 9): <gurobi.Var *Awaiting Model Update*>, (4, 'IVC', 10): <gurobi.Var *Awaiting Model Update*>, (4, 'IVC', 11): <gurobi.Var *Awaiting Model Update*>, (4, 'IVC', 12): <gurobi.Var *Awaiting Model Update*>, (4, 'IVC', 13): <gurobi.Var *Awaiting Model Update*>, (4, 'IVC', 14): <gurobi.Var *Awaiting Model Update*>, (4, 'IVC', 15): <gurobi.Var *Awaiting Model Update*>, (4, 'IVC', 16): <gurobi.Var *Awaiting Model Update*>, (4, 'IVC', 17): <gurobi.Var *Awaiting Model Update*>, (4, 'IVC', 18): <gurobi.Var *Awaiting Model Update*>, (4, 'IVC', 19): <gurobi.Var *Awaiting Model Update*>, (4, 'IVC', 20): <gurobi.Var *Awaiting Model Update*>, (4, 'IVC', 21): <gurobi.Var *Awaiting Model Update*>, (4, 'IVC', 22): <gurobi.Var *Awaiting Model Update*>, (4, 'IVC', 23): <gurobi.Var *Awaiting Model Update*>, (4, 'IVC', 24): <gurobi.Var *Awaiting Model Update*>, (4, 'IVC', 25): <gurobi.Var *Awaiting Model Update*>, (4, 'IVC', 26): <gurobi.Var *Awaiting Model Update*>, (4, 'IVC', 27): <gurobi.Var *Awaiting Model Update*>, (4, 'IVC', 28): <gurobi.Var *Awaiting Model Update*>, (4, 'IVC', 29): <gurobi.Var *Awaiting Model Update*>, (4, 'IVC', 30): <gurobi.Var *Awaiting Model Update*>, (4, 'IVC', 31): <gurobi.Var *Awaiting Model Update*>, (4, 'IVC', 32): <gurobi.Var *Awaiting Model Update*>, (4, 'IVC', 33): <gurobi.Var *Awaiting Model Update*>, (4, 'IVC', 34): <gurobi.Var *Awaiting Model Update*>, (4, 'IVC', 35): <gurobi.Var *Awaiting Model Update*>, (4, 'IVC', 36): <gurobi.Var *Awaiting Model Update*>, (4, 'IVC', 37): <gurobi.Var *Awaiting Model Update*>, (4, 'IVC', 38): <gurobi.Var *Awaiting Model Update*>, (4, 'IVC', 39): <gurobi.Var *Awaiting Model Update*>, (4, 'IVC', 40): <gurobi.Var *Awaiting Model Update*>, (4, 'IVC', 41): <gurobi.Var *Awaiting Model Update*>, (4, 'IVC', 42): <gurobi.Var *Awaiting Model Update*>, (4, 'IVC', 43): <gurobi.Var *Awaiting Model Update*>, (4, 'IVC', 44): <gurobi.Var *Awaiting Model Update*>, (4, 'IVC', 45): <gurobi.Var *Awaiting Model Update*>, (4, 'IVC', 46): <gurobi.Var *Awaiting Model Update*>, (4, 'IVC', 47): <gurobi.Var *Awaiting Model Update*>, (4, 'IVC', 48): <gurobi.Var *Awaiting Model Update*>, (4, 'IVC', 49): <gurobi.Var *Awaiting Model Update*>, (4, 'IVC', 50): <gurobi.Var *Awaiting Model Update*>, (4, 'IVC', 51): <gurobi.Var *Awaiting Model Update*>, (4, 'IVC', 52): <gurobi.Var *Awaiting Model Update*>, (4, 'IVC', 53): <gurobi.Var *Awaiting Model Update*>, (4, 'IVC', 54): <gurobi.Var *Awaiting Model Update*>, (4, 'IVC', 55): <gurobi.Var *Awaiting Model Update*>, (4, 'IVC', 56): <gurobi.Var *Awaiting Model Update*>, (4, 'IVC', 57): <gurobi.Var *Awaiting Model Update*>, (4, 'IVC', 58): <gurobi.Var *Awaiting Model Update*>, (4, 'IVC', 59): <gurobi.Var *Awaiting Model Update*>, (5, 'EV', 0): <gurobi.Var *Awaiting Model Update*>, (5, 'EV', 1): <gurobi.Var *Awaiting Model Update*>, (5, 'EV', 2): <gurobi.Var *Awaiting Model Update*>, (5, 'EV', 3): <gurobi.Var *Awaiting Model Update*>, (5, 'EV', 4): <gurobi.Var *Awaiting Model Update*>, (5, 'EV', 5): <gurobi.Var *Awaiting Model Update*>, (5, 'EV', 6): <gurobi.Var *Awaiting Model Update*>, (5, 'EV', 7): <gurobi.Var *Awaiting Model Update*>, (5, 'EV', 8): <gurobi.Var *Awaiting Model Update*>, (5, 'EV', 9): <gurobi.Var *Awaiting Model Update*>, (5, 'EV', 10): <gurobi.Var *Awaiting Model Update*>, (5, 'EV', 11): <gurobi.Var *Awaiting Model Update*>, (5, 'EV', 12): <gurobi.Var *Awaiting Model Update*>, (5, 'EV', 13): <gurobi.Var *Awaiting Model Update*>, (5, 'EV', 14): <gurobi.Var *Awaiting Model Update*>, (5, 'EV', 15): <gurobi.Var *Awaiting Model Update*>, (5, 'EV', 16): <gurobi.Var *Awaiting Model Update*>, (5, 'EV', 17): <gurobi.Var *Awaiting Model Update*>, (5, 'EV', 18): <gurobi.Var *Awaiting Model Update*>, (5, 'EV', 19): <gurobi.Var *Awaiting Model Update*>, (5, 'EV', 20): <gurobi.Var *Awaiting Model Update*>, (5, 'EV', 21): <gurobi.Var *Awaiting Model Update*>, (5, 'EV', 22): <gurobi.Var *Awaiting Model Update*>, (5, 'EV', 23): <gurobi.Var *Awaiting Model Update*>, (5, 'EV', 24): <gurobi.Var *Awaiting Model Update*>, (5, 'EV', 25): <gurobi.Var *Awaiting Model Update*>, (5, 'EV', 26): <gurobi.Var *Awaiting Model Update*>, (5, 'EV', 27): <gurobi.Var *Awaiting Model Update*>, (5, 'EV', 28): <gurobi.Var *Awaiting Model Update*>, (5, 'EV', 29): <gurobi.Var *Awaiting Model Update*>, (5, 'EV', 30): <gurobi.Var *Awaiting Model Update*>, (5, 'EV', 31): <gurobi.Var *Awaiting Model Update*>, (5, 'EV', 32): <gurobi.Var *Awaiting Model Update*>, (5, 'EV', 33): <gurobi.Var *Awaiting Model Update*>, (5, 'EV', 34): <gurobi.Var *Awaiting Model Update*>, (5, 'EV', 35): <gurobi.Var *Awaiting Model Update*>, (5, 'EV', 36): <gurobi.Var *Awaiting Model Update*>, (5, 'EV', 37): <gurobi.Var *Awaiting Model Update*>, (5, 'EV', 38): <gurobi.Var *Awaiting Model Update*>, (5, 'EV', 39): <gurobi.Var *Awaiting Model Update*>, (5, 'EV', 40): <gurobi.Var *Awaiting Model Update*>, (5, 'EV', 41): <gurobi.Var *Awaiting Model Update*>, (5, 'EV', 42): <gurobi.Var *Awaiting Model Update*>, (5, 'EV', 43): <gurobi.Var *Awaiting Model Update*>, (5, 'EV', 44): <gurobi.Var *Awaiting Model Update*>, (5, 'EV', 45): <gurobi.Var *Awaiting Model Update*>, (5, 'EV', 46): <gurobi.Var *Awaiting Model Update*>, (5, 'EV', 47): <gurobi.Var *Awaiting Model Update*>, (5, 'EV', 48): <gurobi.Var *Awaiting Model Update*>, (5, 'EV', 49): <gurobi.Var *Awaiting Model Update*>, (5, 'EV', 50): <gurobi.Var *Awaiting Model Update*>, (5, 'EV', 51): <gurobi.Var *Awaiting Model Update*>, (5, 'EV', 52): <gurobi.Var *Awaiting Model Update*>, (5, 'EV', 53): <gurobi.Var *Awaiting Model Update*>, (5, 'EV', 54): <gurobi.Var *Awaiting Model Update*>, (5, 'EV', 55): <gurobi.Var *Awaiting Model Update*>, (5, 'EV', 56): <gurobi.Var *Awaiting Model Update*>, (5, 'EV', 57): <gurobi.Var *Awaiting Model Update*>, (5, 'EV', 58): <gurobi.Var *Awaiting Model Update*>, (5, 'EV', 59): <gurobi.Var *Awaiting Model Update*>, (5, 'IVC', 0): <gurobi.Var *Awaiting Model Update*>, (5, 'IVC', 1): <gurobi.Var *Awaiting Model Update*>, (5, 'IVC', 2): <gurobi.Var *Awaiting Model Update*>, (5, 'IVC', 3): <gurobi.Var *Awaiting Model Update*>, (5, 'IVC', 4): <gurobi.Var *Awaiting Model Update*>, (5, 'IVC', 5): <gurobi.Var *Awaiting Model Update*>, (5, 'IVC', 6): <gurobi.Var *Awaiting Model Update*>, (5, 'IVC', 7): <gurobi.Var *Awaiting Model Update*>, (5, 'IVC', 8): <gurobi.Var *Awaiting Model Update*>, (5, 'IVC', 9): <gurobi.Var *Awaiting Model Update*>, (5, 'IVC', 10): <gurobi.Var *Awaiting Model Update*>, (5, 'IVC', 11): <gurobi.Var *Awaiting Model Update*>, (5, 'IVC', 12): <gurobi.Var *Awaiting Model Update*>, (5, 'IVC', 13): <gurobi.Var *Awaiting Model Update*>, (5, 'IVC', 14): <gurobi.Var *Awaiting Model Update*>, (5, 'IVC', 15): <gurobi.Var *Awaiting Model Update*>, (5, 'IVC', 16): <gurobi.Var *Awaiting Model Update*>, (5, 'IVC', 17): <gurobi.Var *Awaiting Model Update*>, (5, 'IVC', 18): <gurobi.Var *Awaiting Model Update*>, (5, 'IVC', 19): <gurobi.Var *Awaiting Model Update*>, (5, 'IVC', 20): <gurobi.Var *Awaiting Model Update*>, (5, 'IVC', 21): <gurobi.Var *Awaiting Model Update*>, (5, 'IVC', 22): <gurobi.Var *Awaiting Model Update*>, (5, 'IVC', 23): <gurobi.Var *Awaiting Model Update*>, (5, 'IVC', 24): <gurobi.Var *Awaiting Model Update*>, (5, 'IVC', 25): <gurobi.Var *Awaiting Model Update*>, (5, 'IVC', 26): <gurobi.Var *Awaiting Model Update*>, (5, 'IVC', 27): <gurobi.Var *Awaiting Model Update*>, (5, 'IVC', 28): <gurobi.Var *Awaiting Model Update*>, (5, 'IVC', 29): <gurobi.Var *Awaiting Model Update*>, (5, 'IVC', 30): <gurobi.Var *Awaiting Model Update*>, (5, 'IVC', 31): <gurobi.Var *Awaiting Model Update*>, (5, 'IVC', 32): <gurobi.Var *Awaiting Model Update*>, (5, 'IVC', 33): <gurobi.Var *Awaiting Model Update*>, (5, 'IVC', 34): <gurobi.Var *Awaiting Model Update*>, (5, 'IVC', 35): <gurobi.Var *Awaiting Model Update*>, (5, 'IVC', 36): <gurobi.Var *Awaiting Model Update*>, (5, 'IVC', 37): <gurobi.Var *Awaiting Model Update*>, (5, 'IVC', 38): <gurobi.Var *Awaiting Model Update*>, (5, 'IVC', 39): <gurobi.Var *Awaiting Model Update*>, (5, 'IVC', 40): <gurobi.Var *Awaiting Model Update*>, (5, 'IVC', 41): <gurobi.Var *Awaiting Model Update*>, (5, 'IVC', 42): <gurobi.Var *Awaiting Model Update*>, (5, 'IVC', 43): <gurobi.Var *Awaiting Model Update*>, (5, 'IVC', 44): <gurobi.Var *Awaiting Model Update*>, (5, 'IVC', 45): <gurobi.Var *Awaiting Model Update*>, (5, 'IVC', 46): <gurobi.Var *Awaiting Model Update*>, (5, 'IVC', 47): <gurobi.Var *Awaiting Model Update*>, (5, 'IVC', 48): <gurobi.Var *Awaiting Model Update*>, (5, 'IVC', 49): <gurobi.Var *Awaiting Model Update*>, (5, 'IVC', 50): <gurobi.Var *Awaiting Model Update*>, (5, 'IVC', 51): <gurobi.Var *Awaiting Model Update*>, (5, 'IVC', 52): <gurobi.Var *Awaiting Model Update*>, (5, 'IVC', 53): <gurobi.Var *Awaiting Model Update*>, (5, 'IVC', 54): <gurobi.Var *Awaiting Model Update*>, (5, 'IVC', 55): <gurobi.Var *Awaiting Model Update*>, (5, 'IVC', 56): <gurobi.Var *Awaiting Model Update*>, (5, 'IVC', 57): <gurobi.Var *Awaiting Model Update*>, (5, 'IVC', 58): <gurobi.Var *Awaiting Model Update*>, (5, 'IVC', 59): <gurobi.Var *Awaiting Model Update*>, (6, 'EV', 0): <gurobi.Var *Awaiting Model Update*>, (6, 'EV', 1): <gurobi.Var *Awaiting Model Update*>, (6, 'EV', 2): <gurobi.Var *Awaiting Model Update*>, (6, 'EV', 3): <gurobi.Var *Awaiting Model Update*>, (6, 'EV', 4): <gurobi.Var *Awaiting Model Update*>, (6, 'EV', 5): <gurobi.Var *Awaiting Model Update*>, (6, 'EV', 6): <gurobi.Var *Awaiting Model Update*>, (6, 'EV', 7): <gurobi.Var *Awaiting Model Update*>, (6, 'EV', 8): <gurobi.Var *Awaiting Model Update*>, (6, 'EV', 9): <gurobi.Var *Awaiting Model Update*>, (6, 'EV', 10): <gurobi.Var *Awaiting Model Update*>, (6, 'EV', 11): <gurobi.Var *Awaiting Model Update*>, (6, 'EV', 12): <gurobi.Var *Awaiting Model Update*>, (6, 'EV', 13): <gurobi.Var *Awaiting Model Update*>, (6, 'EV', 14): <gurobi.Var *Awaiting Model Update*>, (6, 'EV', 15): <gurobi.Var *Awaiting Model Update*>, (6, 'EV', 16): <gurobi.Var *Awaiting Model Update*>, (6, 'EV', 17): <gurobi.Var *Awaiting Model Update*>, (6, 'EV', 18): <gurobi.Var *Awaiting Model Update*>, (6, 'EV', 19): <gurobi.Var *Awaiting Model Update*>, (6, 'EV', 20): <gurobi.Var *Awaiting Model Update*>, (6, 'EV', 21): <gurobi.Var *Awaiting Model Update*>, (6, 'EV', 22): <gurobi.Var *Awaiting Model Update*>, (6, 'EV', 23): <gurobi.Var *Awaiting Model Update*>, (6, 'EV', 24): <gurobi.Var *Awaiting Model Update*>, (6, 'EV', 25): <gurobi.Var *Awaiting Model Update*>, (6, 'EV', 26): <gurobi.Var *Awaiting Model Update*>, (6, 'EV', 27): <gurobi.Var *Awaiting Model Update*>, (6, 'EV', 28): <gurobi.Var *Awaiting Model Update*>, (6, 'EV', 29): <gurobi.Var *Awaiting Model Update*>, (6, 'EV', 30): <gurobi.Var *Awaiting Model Update*>, (6, 'EV', 31): <gurobi.Var *Awaiting Model Update*>, (6, 'EV', 32): <gurobi.Var *Awaiting Model Update*>, (6, 'EV', 33): <gurobi.Var *Awaiting Model Update*>, (6, 'EV', 34): <gurobi.Var *Awaiting Model Update*>, (6, 'EV', 35): <gurobi.Var *Awaiting Model Update*>, (6, 'EV', 36): <gurobi.Var *Awaiting Model Update*>, (6, 'EV', 37): <gurobi.Var *Awaiting Model Update*>, (6, 'EV', 38): <gurobi.Var *Awaiting Model Update*>, (6, 'EV', 39): <gurobi.Var *Awaiting Model Update*>, (6, 'EV', 40): <gurobi.Var *Awaiting Model Update*>, (6, 'EV', 41): <gurobi.Var *Awaiting Model Update*>, (6, 'EV', 42): <gurobi.Var *Awaiting Model Update*>, (6, 'EV', 43): <gurobi.Var *Awaiting Model Update*>, (6, 'EV', 44): <gurobi.Var *Awaiting Model Update*>, (6, 'EV', 45): <gurobi.Var *Awaiting Model Update*>, (6, 'EV', 46): <gurobi.Var *Awaiting Model Update*>, (6, 'EV', 47): <gurobi.Var *Awaiting Model Update*>, (6, 'EV', 48): <gurobi.Var *Awaiting Model Update*>, (6, 'EV', 49): <gurobi.Var *Awaiting Model Update*>, (6, 'EV', 50): <gurobi.Var *Awaiting Model Update*>, (6, 'EV', 51): <gurobi.Var *Awaiting Model Update*>, (6, 'EV', 52): <gurobi.Var *Awaiting Model Update*>, (6, 'EV', 53): <gurobi.Var *Awaiting Model Update*>, (6, 'EV', 54): <gurobi.Var *Awaiting Model Update*>, (6, 'EV', 55): <gurobi.Var *Awaiting Model Update*>, (6, 'EV', 56): <gurobi.Var *Awaiting Model Update*>, (6, 'EV', 57): <gurobi.Var *Awaiting Model Update*>, (6, 'EV', 58): <gurobi.Var *Awaiting Model Update*>, (6, 'EV', 59): <gurobi.Var *Awaiting Model Update*>, (6, 'IVC', 0): <gurobi.Var *Awaiting Model Update*>, (6, 'IVC', 1): <gurobi.Var *Awaiting Model Update*>, (6, 'IVC', 2): <gurobi.Var *Awaiting Model Update*>, (6, 'IVC', 3): <gurobi.Var *Awaiting Model Update*>, (6, 'IVC', 4): <gurobi.Var *Awaiting Model Update*>, (6, 'IVC', 5): <gurobi.Var *Awaiting Model Update*>, (6, 'IVC', 6): <gurobi.Var *Awaiting Model Update*>, (6, 'IVC', 7): <gurobi.Var *Awaiting Model Update*>, (6, 'IVC', 8): <gurobi.Var *Awaiting Model Update*>, (6, 'IVC', 9): <gurobi.Var *Awaiting Model Update*>, (6, 'IVC', 10): <gurobi.Var *Awaiting Model Update*>, (6, 'IVC', 11): <gurobi.Var *Awaiting Model Update*>, (6, 'IVC', 12): <gurobi.Var *Awaiting Model Update*>, (6, 'IVC', 13): <gurobi.Var *Awaiting Model Update*>, (6, 'IVC', 14): <gurobi.Var *Awaiting Model Update*>, (6, 'IVC', 15): <gurobi.Var *Awaiting Model Update*>, (6, 'IVC', 16): <gurobi.Var *Awaiting Model Update*>, (6, 'IVC', 17): <gurobi.Var *Awaiting Model Update*>, (6, 'IVC', 18): <gurobi.Var *Awaiting Model Update*>, (6, 'IVC', 19): <gurobi.Var *Awaiting Model Update*>, (6, 'IVC', 20): <gurobi.Var *Awaiting Model Update*>, (6, 'IVC', 21): <gurobi.Var *Awaiting Model Update*>, (6, 'IVC', 22): <gurobi.Var *Awaiting Model Update*>, (6, 'IVC', 23): <gurobi.Var *Awaiting Model Update*>, (6, 'IVC', 24): <gurobi.Var *Awaiting Model Update*>, (6, 'IVC', 25): <gurobi.Var *Awaiting Model Update*>, (6, 'IVC', 26): <gurobi.Var *Awaiting Model Update*>, (6, 'IVC', 27): <gurobi.Var *Awaiting Model Update*>, (6, 'IVC', 28): <gurobi.Var *Awaiting Model Update*>, (6, 'IVC', 29): <gurobi.Var *Awaiting Model Update*>, (6, 'IVC', 30): <gurobi.Var *Awaiting Model Update*>, (6, 'IVC', 31): <gurobi.Var *Awaiting Model Update*>, (6, 'IVC', 32): <gurobi.Var *Awaiting Model Update*>, (6, 'IVC', 33): <gurobi.Var *Awaiting Model Update*>, (6, 'IVC', 34): <gurobi.Var *Awaiting Model Update*>, (6, 'IVC', 35): <gurobi.Var *Awaiting Model Update*>, (6, 'IVC', 36): <gurobi.Var *Awaiting Model Update*>, (6, 'IVC', 37): <gurobi.Var *Awaiting Model Update*>, (6, 'IVC', 38): <gurobi.Var *Awaiting Model Update*>, (6, 'IVC', 39): <gurobi.Var *Awaiting Model Update*>, (6, 'IVC', 40): <gurobi.Var *Awaiting Model Update*>, (6, 'IVC', 41): <gurobi.Var *Awaiting Model Update*>, (6, 'IVC', 42): <gurobi.Var *Awaiting Model Update*>, (6, 'IVC', 43): <gurobi.Var *Awaiting Model Update*>, (6, 'IVC', 44): <gurobi.Var *Awaiting Model Update*>, (6, 'IVC', 45): <gurobi.Var *Awaiting Model Update*>, (6, 'IVC', 46): <gurobi.Var *Awaiting Model Update*>, (6, 'IVC', 47): <gurobi.Var *Awaiting Model Update*>, (6, 'IVC', 48): <gurobi.Var *Awaiting Model Update*>, (6, 'IVC', 49): <gurobi.Var *Awaiting Model Update*>, (6, 'IVC', 50): <gurobi.Var *Awaiting Model Update*>, (6, 'IVC', 51): <gurobi.Var *Awaiting Model Update*>, (6, 'IVC', 52): <gurobi.Var *Awaiting Model Update*>, (6, 'IVC', 53): <gurobi.Var *Awaiting Model Update*>, (6, 'IVC', 54): <gurobi.Var *Awaiting Model Update*>, (6, 'IVC', 55): <gurobi.Var *Awaiting Model Update*>, (6, 'IVC', 56): <gurobi.Var *Awaiting Model Update*>, (6, 'IVC', 57): <gurobi.Var *Awaiting Model Update*>, (6, 'IVC', 58): <gurobi.Var *Awaiting Model Update*>, (6, 'IVC', 59): <gurobi.Var *Awaiting Model Update*>}\n"
     ]
    }
   ],
   "source": [
    "print(n)"
   ]
  },
  {
   "cell_type": "code",
   "execution_count": 99,
   "id": "5afc0414",
   "metadata": {},
   "outputs": [
    {
     "ename": "TypeError",
     "evalue": "'int' object is not subscriptable",
     "output_type": "error",
     "traceback": [
      "\u001b[0;31m---------------------------------------------------------------------------\u001b[0m",
      "\u001b[0;31mTypeError\u001b[0m                                 Traceback (most recent call last)",
      "Cell \u001b[0;32mIn[99], line 25\u001b[0m\n\u001b[1;32m     23\u001b[0m WCL\u001b[38;5;241m.\u001b[39maddConstr(n[a,\u001b[38;5;124m\"\u001b[39m\u001b[38;5;124mIVC\u001b[39m\u001b[38;5;124m\"\u001b[39m,t] \u001b[38;5;241m+\u001b[39m gb\u001b[38;5;241m.\u001b[39mquicksum(v[a,\u001b[38;5;124m\"\u001b[39m\u001b[38;5;124mIVC\u001b[39m\u001b[38;5;124m\"\u001b[39m,k] \u001b[38;5;28;01mfor\u001b[39;00m k \u001b[38;5;129;01min\u001b[39;00m np\u001b[38;5;241m.\u001b[39marange(t_out,t\u001b[38;5;241m+\u001b[39m\u001b[38;5;241m1\u001b[39m)) \u001b[38;5;241m<\u001b[39m\u001b[38;5;241m=\u001b[39m \u001b[38;5;241m0.12\u001b[39m \u001b[38;5;241m*\u001b[39m length[a])\n\u001b[1;32m     24\u001b[0m \u001b[38;5;66;03m# formula 16: flux conservation for incoming vehicles\u001b[39;00m\n\u001b[0;32m---> 25\u001b[0m in_nb \u001b[38;5;241m=\u001b[39m \u001b[43m[\u001b[49m\u001b[43me\u001b[49m\u001b[43m \u001b[49m\u001b[38;5;28;43;01mfor\u001b[39;49;00m\u001b[43m \u001b[49m\u001b[43me\u001b[49m\u001b[43m \u001b[49m\u001b[38;5;129;43;01min\u001b[39;49;00m\u001b[43m \u001b[49m\u001b[43mlink\u001b[49m\u001b[43m \u001b[49m\u001b[38;5;28;43;01mif\u001b[39;49;00m\u001b[43m \u001b[49m\u001b[43me\u001b[49m\u001b[43m[\u001b[49m\u001b[38;5;241;43m1\u001b[39;49m\u001b[43m]\u001b[49m\u001b[43m \u001b[49m\u001b[38;5;241;43m==\u001b[39;49m\u001b[43m \u001b[49m\u001b[43ma\u001b[49m\u001b[43m[\u001b[49m\u001b[38;5;241;43m0\u001b[39;49m\u001b[43m]\u001b[49m\u001b[43m]\u001b[49m \u001b[38;5;66;03m# neighbour nodes\u001b[39;00m\n\u001b[1;32m     26\u001b[0m WCL\u001b[38;5;241m.\u001b[39maddConstr(u[a,m,t] \u001b[38;5;241m==\u001b[39m gb\u001b[38;5;241m.\u001b[39mquicksum(f[b,a,m,t] \u001b[38;5;28;01mfor\u001b[39;00m b \u001b[38;5;129;01min\u001b[39;00m in_nb))\n\u001b[1;32m     27\u001b[0m \u001b[38;5;66;03m# formula 17:  flux conservation for outgoing vehicles\u001b[39;00m\n",
      "Cell \u001b[0;32mIn[99], line 25\u001b[0m, in \u001b[0;36m<listcomp>\u001b[0;34m(.0)\u001b[0m\n\u001b[1;32m     23\u001b[0m WCL\u001b[38;5;241m.\u001b[39maddConstr(n[a,\u001b[38;5;124m\"\u001b[39m\u001b[38;5;124mIVC\u001b[39m\u001b[38;5;124m\"\u001b[39m,t] \u001b[38;5;241m+\u001b[39m gb\u001b[38;5;241m.\u001b[39mquicksum(v[a,\u001b[38;5;124m\"\u001b[39m\u001b[38;5;124mIVC\u001b[39m\u001b[38;5;124m\"\u001b[39m,k] \u001b[38;5;28;01mfor\u001b[39;00m k \u001b[38;5;129;01min\u001b[39;00m np\u001b[38;5;241m.\u001b[39marange(t_out,t\u001b[38;5;241m+\u001b[39m\u001b[38;5;241m1\u001b[39m)) \u001b[38;5;241m<\u001b[39m\u001b[38;5;241m=\u001b[39m \u001b[38;5;241m0.12\u001b[39m \u001b[38;5;241m*\u001b[39m length[a])\n\u001b[1;32m     24\u001b[0m \u001b[38;5;66;03m# formula 16: flux conservation for incoming vehicles\u001b[39;00m\n\u001b[0;32m---> 25\u001b[0m in_nb \u001b[38;5;241m=\u001b[39m [e \u001b[38;5;28;01mfor\u001b[39;00m e \u001b[38;5;129;01min\u001b[39;00m link \u001b[38;5;28;01mif\u001b[39;00m \u001b[43me\u001b[49m\u001b[43m[\u001b[49m\u001b[38;5;241;43m1\u001b[39;49m\u001b[43m]\u001b[49m \u001b[38;5;241m==\u001b[39m a[\u001b[38;5;241m0\u001b[39m]] \u001b[38;5;66;03m# neighbour nodes\u001b[39;00m\n\u001b[1;32m     26\u001b[0m WCL\u001b[38;5;241m.\u001b[39maddConstr(u[a,m,t] \u001b[38;5;241m==\u001b[39m gb\u001b[38;5;241m.\u001b[39mquicksum(f[b,a,m,t] \u001b[38;5;28;01mfor\u001b[39;00m b \u001b[38;5;129;01min\u001b[39;00m in_nb))\n\u001b[1;32m     27\u001b[0m \u001b[38;5;66;03m# formula 17:  flux conservation for outgoing vehicles\u001b[39;00m\n",
      "\u001b[0;31mTypeError\u001b[0m: 'int' object is not subscriptable"
     ]
    }
   ],
   "source": [
    "# Flow capacity\n",
    "\n",
    "# Compute Kronecher's delta for constraint 19\n",
    "deltaKron = {}\n",
    "for p_idx, path in enumerate(paths):\n",
    "    # Check if link a is in the path\n",
    "    arc_list = list(zip(path[:-1], path[1:]))\n",
    "    for a in link:\n",
    "        deltaKron[p_idx,a] = 1 if a in arc_list else 0\n",
    "\n",
    "for a in link:\n",
    "    for t in np.arange(0, T, timestep):\n",
    "            # Formula 12: conservation of vehicle numbers\n",
    "            WCL.addConstr(n[a,\"EV\",t] == gb.quicksum(u[a,\"EV\",k] - v[a,\"EV\",k] for k in np.arange(t+1)))\n",
    "            WCL.addConstr(n[a,\"IVC\",t] == gb.quicksum(u[a,\"IVC\",k] - v[a,\"IVC\",k] for k in np.arange(t+1)))\n",
    "            # formula 13: upstream capacity\n",
    "            t_in = max(0, t - int(length[a]/900))\n",
    "            WCL.addConstr(gb.quicksum(u[a,\"EV\",k] for k in np.arange(t_in,t+1)) <= n[a,\"EV\",t])\n",
    "            WCL.addConstr(gb.quicksum(u[a,\"IVC\",k] for k in np.arange(t_in,t+1)) <= n[a,\"IVC\",t])\n",
    "            # formula 14: downstream capacity\n",
    "            t_out = max(0, t - int(length[a]/450))\n",
    "            WCL.addConstr(n[a,\"EV\",t] + gb.quicksum(v[a,\"EV\",k] for k in np.arange(t_out,t+1)) <= 0.12 * length[a])\n",
    "            WCL.addConstr(n[a,\"IVC\",t] + gb.quicksum(v[a,\"IVC\",k] for k in np.arange(t_out,t+1)) <= 0.12 * length[a])\n",
    "            # formula 16: flux conservation for incoming vehicles\n",
    "            in_nb = [e for e in link if e[1] == a[0]] # neighbour nodes\n",
    "            WCL.addConstr(u[a,m,t] == gb.quicksum(f[b,a,m,t] for b in in_nb))\n",
    "            # formula 17:  flux conservation for outgoing vehicles\n",
    "            out_nb = [e for e in link if e[0] == a[1]] # neighbour nodes\n",
    "            WCL.addConstr(v[a,m,t] == gb.quicksum(f[b,a,m,t] for b in out_nb))\n",
    "\n",
    "            if a not in link_source:\n",
    "                # formula 19: flow capacity of EV on links\n",
    "                WCL.addConstr(gb.quicksum(f[b,a,m,t] for b in not(link_source)) <= vehicles.Qa * gb.quicksum(deltaKron[a,p] * y[m,p] for p in paths))\n",
    "# formula 15: source link constraint is the demand rate of vehicle M at time step t\n",
    "WCL.addConstr(u[a,m,t] == vehicles.Da)\n",
    "# formula 18: sink link constraint\n",
    "WCL.addConstr(v[a,m,t] == 0)"
   ]
  },
  {
   "cell_type": "code",
   "execution_count": 47,
   "id": "a05b8089",
   "metadata": {},
   "outputs": [
    {
     "ename": "IndexError",
     "evalue": "list index out of range",
     "output_type": "error",
     "traceback": [
      "\u001b[0;31m---------------------------------------------------------------------------\u001b[0m",
      "\u001b[0;31mIndexError\u001b[0m                                Traceback (most recent call last)",
      "Cell \u001b[0;32mIn[47], line 2\u001b[0m\n\u001b[1;32m      1\u001b[0m \u001b[38;5;66;03m# Feasibility of path\u001b[39;00m\n\u001b[0;32m----> 2\u001b[0m WCL\u001b[38;5;241m.\u001b[39maddConstr(\u001b[43mgb\u001b[49m\u001b[38;5;241;43m.\u001b[39;49m\u001b[43mquicksum\u001b[49m\u001b[43m(\u001b[49m\u001b[43mlength\u001b[49m\u001b[43m[\u001b[49m\u001b[43ma\u001b[49m\u001b[43m]\u001b[49m\u001b[43m \u001b[49m\u001b[38;5;241;43m*\u001b[39;49m\u001b[43m \u001b[49m\u001b[43mx\u001b[49m\u001b[43m[\u001b[49m\u001b[43ma_to_idx\u001b[49m\u001b[43m[\u001b[49m\u001b[43ma\u001b[49m\u001b[43m]\u001b[49m\u001b[43m]\u001b[49m\u001b[43m \u001b[49m\u001b[38;5;28;43;01mfor\u001b[39;49;00m\u001b[43m \u001b[49m\u001b[43ma\u001b[49m\u001b[43m \u001b[49m\u001b[38;5;129;43;01min\u001b[39;49;00m\u001b[43m \u001b[49m\u001b[43mlink\u001b[49m\u001b[43m)\u001b[49m \u001b[38;5;241m<\u001b[39m\u001b[38;5;241m=\u001b[39m budget) \u001b[38;5;66;03m# formula 3: budget\u001b[39;00m\n\u001b[1;32m      3\u001b[0m \u001b[38;5;66;03m# State of energy after travelling on link 𝑎 is no greater than the battery capacity\u001b[39;00m\n\u001b[1;32m      4\u001b[0m \u001b[38;5;28;01mfor\u001b[39;00m p \u001b[38;5;129;01min\u001b[39;00m \u001b[38;5;28mrange\u001b[39m(\u001b[38;5;28mlen\u001b[39m(paths)):\n\u001b[1;32m      5\u001b[0m     \u001b[38;5;66;03m# energia iniziale serve rimetterla?? tanto è già da EV. In caso:\u001b[39;00m\n\u001b[1;32m      6\u001b[0m     \u001b[38;5;66;03m# a0 = (paths[p][0], paths[p][1])\u001b[39;00m\n\u001b[1;32m      7\u001b[0m     \u001b[38;5;66;03m# WCL.addConstr(B[a0,p] == B0)\u001b[39;00m\n",
      "File \u001b[0;32msrc/gurobipy/gurobi.pxi:3706\u001b[0m, in \u001b[0;36mgurobipy.quicksum\u001b[0;34m()\u001b[0m\n",
      "Cell \u001b[0;32mIn[47], line 2\u001b[0m, in \u001b[0;36m<genexpr>\u001b[0;34m(.0)\u001b[0m\n\u001b[1;32m      1\u001b[0m \u001b[38;5;66;03m# Feasibility of path\u001b[39;00m\n\u001b[0;32m----> 2\u001b[0m WCL\u001b[38;5;241m.\u001b[39maddConstr(gb\u001b[38;5;241m.\u001b[39mquicksum(\u001b[43mlength\u001b[49m\u001b[43m[\u001b[49m\u001b[43ma\u001b[49m\u001b[43m]\u001b[49m \u001b[38;5;241m*\u001b[39m x[a_to_idx[a]] \u001b[38;5;28;01mfor\u001b[39;00m a \u001b[38;5;129;01min\u001b[39;00m link) \u001b[38;5;241m<\u001b[39m\u001b[38;5;241m=\u001b[39m budget) \u001b[38;5;66;03m# formula 3: budget\u001b[39;00m\n\u001b[1;32m      3\u001b[0m \u001b[38;5;66;03m# State of energy after travelling on link 𝑎 is no greater than the battery capacity\u001b[39;00m\n\u001b[1;32m      4\u001b[0m \u001b[38;5;28;01mfor\u001b[39;00m p \u001b[38;5;129;01min\u001b[39;00m \u001b[38;5;28mrange\u001b[39m(\u001b[38;5;28mlen\u001b[39m(paths)):\n\u001b[1;32m      5\u001b[0m     \u001b[38;5;66;03m# energia iniziale serve rimetterla?? tanto è già da EV. In caso:\u001b[39;00m\n\u001b[1;32m      6\u001b[0m     \u001b[38;5;66;03m# a0 = (paths[p][0], paths[p][1])\u001b[39;00m\n\u001b[1;32m      7\u001b[0m     \u001b[38;5;66;03m# WCL.addConstr(B[a0,p] == B0)\u001b[39;00m\n",
      "\u001b[0;31mIndexError\u001b[0m: list index out of range"
     ]
    }
   ],
   "source": [
    "# Supply and demand at node\n",
    "S = {}\n",
    "D = {}\n",
    "for a in link:\n",
    "    for t in range(0, T, timestep):\n",
    "        # formula 20\n",
    "        S[a,t] = min(vehicles.Qa, vehicles.Ka * length[a] + gb.quicksum(v[a,m,k] for m in M for k in range(0, t - int(length[a]/vehicles.Wa))) - gb.quicksum(u[a,m,k] for m in M for k in range(0,t)))\n",
    "        # formula 23: \n",
    "        WCL.addConstr(u[a,m,t] for m in M <= S[a,t])\n",
    "        # formula 21:\n",
    "        D[a,t] = min(vehicles.Qa, gb.quicksum(u[a,m,k] for m in M for k in range(0, t - int(length[a]/vehicles.Wa))) - gb.quicksum(v[a,m,k] for m in M for k in range(0,t)))\n",
    "        # formula 24: \n",
    "        WCL.addConstr(u[a,m,t] for m in M <= D[a,t])\n",
    "\n",
    "WCL.setObjective(gb.quicksum((len(range(0, T, timestep)) + 1 - i) * f[a, b, i, m] for m in M for i in T for a in link_sink for b in link[1:]))\n",
    "WCL.optimize()"
   ]
  }
 ],
 "metadata": {
  "kernelspec": {
   "display_name": "Python 3 (ipykernel)",
   "language": "python",
   "name": "python3"
  },
  "language_info": {
   "codemirror_mode": {
    "name": "ipython",
    "version": 3
   },
   "file_extension": ".py",
   "mimetype": "text/x-python",
   "name": "python",
   "nbconvert_exporter": "python",
   "pygments_lexer": "ipython3",
   "version": "3.11.3"
  }
 },
 "nbformat": 4,
 "nbformat_minor": 5
}
