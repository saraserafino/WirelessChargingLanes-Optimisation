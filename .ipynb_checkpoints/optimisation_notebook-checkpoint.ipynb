{
 "cells": [
  {
   "cell_type": "code",
   "execution_count": 42,
   "id": "325fbc5c",
   "metadata": {},
   "outputs": [],
   "source": [
    "from gurobipy import *\n",
    "import gurobipy as gb\n",
    "import numpy as np\n",
    "\n",
    "class EV: # Electric Vehicles\n",
    "    def __init__(self, scalability):\n",
    "        self.B0 = 0.35 # initial energy\n",
    "        self.energy = 0.35 # initial state of energy\n",
    "        if scalability is True: # For grid Network\n",
    "            self.Bmax = 1.0 # battery capacity\n",
    "        else: # For Braess networks\n",
    "            self.Bmax = 0.5\n",
    "        # Traffic parameters\n",
    "        self.Va = 900 # m/min, free-flow speed\n",
    "        self.Wa = 450 # m/min, backward speed\n",
    "        self.Ka = 0.12 # vehicles/min, jam density for each link 𝑎\n",
    "        self.Qa = 36 # vehicles * m / min^2, maximum flow capacity\n",
    "        self.Ca = 0.04 # vehicles/min, critical density\n",
    "        self.Da = 36 # vehicles/min, demand rate\n",
    "\n",
    "        self.omega = 0.33 # amount of energy received when traversing oncharging link per time unit\n",
    "        self.epsilon = 0.00018 # electricity consumption rate\n",
    "    \n",
    "\n",
    "class ICV: # Internal Combustion Vehicles\n",
    "    def __init__(self, scalability):\n",
    "        # Traffic parameters\n",
    "        self.Va = 900 # m/min, free-flow speed\n",
    "        self.Wa = 450 # m/min, backward speed\n",
    "        self.Ka = 0.12 # vehicles/min, jam density for each link 𝑎\n",
    "        self.Qa = 36 # vehicles * m / min^2, maximum flow capacity\n",
    "        self.Ca = 0.04 # vehicles/min, critical density\n",
    "        self.Da = 36 # vehicles/min, demand rate"
   ]
  },
  {
   "cell_type": "code",
   "execution_count": 43,
   "id": "1e651891",
   "metadata": {},
   "outputs": [],
   "source": [
    "# Chose some parameters:\n",
    "scalability = False # False for Braess networks, True for grid networks\n",
    "budget = 2700\n",
    "\n",
    "\n",
    "WCL = gb.Model()\n",
    "WCL.modelSense = gb.GRB.MAXIMIZE\n",
    "WCL.setParam('OutputFlag', 0) # this is used to quite the xpress outputs (no printing)\n",
    "\n",
    "M = [\"EV\", \"ICV\"] # class of vehicles\n",
    "\n",
    "# The following lists are taken with respect to problem scalability\n",
    "######### per ora Braess network\n",
    "link_length = {1: 0, 2: 900, 3: 1800, 4: 900, 5: 3600, 6: 900, 7: 0}\n",
    "link = list(link_length.keys())\n",
    "link_source = link[0]\n",
    "link_sink = link[-1]\n",
    "length = list(link_length.values())\n",
    "paths = [[1,2,4,6,7], [1,2,5,7], [1,3,6,7]] # lista dei percorsi\n",
    "timestep = 0.25 # time steps che dipende da scalabilità\n",
    "T = 60\n",
    "\n",
    "# np.arange(0, T + timestep, timestep) = [0, 0.25, 0.5, 0.75, 1.0, ..., 60] but only int can be array indices!\n",
    "time_indices = {i: t for i, t in enumerate(np.arange(0, T + timestep, timestep))}\n",
    "# time_to_index = {0: 0.0, 1: 0.25, 2: 0.5, 3: 0.75, 4: 1.0, ..., 240: 60.0}\n",
    "# In arrays we'll just use its keys (i):\n",
    "t_idx = list(time_indices.keys())\n",
    "## quindi ora sostituisco t_idx a tutti gli np.arange(...)\n",
    "\n",
    "x = WCL.addVars(link, vtype=gb.GRB.BINARY) # 1 if link a has WCL\n",
    "y = WCL.addVars(M, len(paths), vtype=gb.GRB.BINARY) # 1 if path p is feasible for vehicle m\n",
    "B = WCL.addVars(link, len(paths), ub=0.5) # state of energy, bounded with its max capacity\n",
    "\n",
    "n = WCL.addVars(link, M, t_idx, lb=0, ub=432) # number of vehicles M on link 𝑎 at time t\n",
    "u = WCL.addVars(link, M, t_idx, lb=0, ub=36) # incoming traffic flow of vehicle M to link 𝑎 at time t\n",
    "v = WCL.addVars(link, M, t_idx, lb=0, ub=36) # outgoing traffic flow of vehicle M to link 𝑎 at time t\n",
    "f = WCL.addVars(link, link, M, t_idx, lb=0, ub=36) # upstream traffic of vehicle M at link b, coming from downstream traffic at link a\n",
    "# These variables are already defined with the constraint of non-negativity (formula 24)"
   ]
  },
  {
   "cell_type": "markdown",
   "id": "deec3fd8",
   "metadata": {},
   "source": [
    "n ha ub $432=Ka*$length of the longest link$=0.12*3600$"
   ]
  },
  {
   "cell_type": "code",
   "execution_count": 44,
   "id": "2f05e1ff",
   "metadata": {},
   "outputs": [
    {
     "name": "stdout",
     "output_type": "stream",
     "text": [
      "i: 1 b: 1 a: 2\n",
      "i: 2 b: 2 a: 4\n",
      "i: 3 b: 4 a: 6\n",
      "i: 1 b: 1 a: 2\n",
      "i: 2 b: 2 a: 5\n",
      "i: 1 b: 1 a: 3\n",
      "i: 2 b: 3 a: 6\n"
     ]
    }
   ],
   "source": [
    "# Feasibility of path\n",
    "WCL.addConstr(gb.quicksum(length[a] * x[a] for a in link[1:-1]) <= budget) # formula 3: budget\n",
    "\n",
    "# Add new variable for writing formula 5 (minimum between constant and expression)\n",
    "G = WCL.addVars(link, len(paths), vtype=gb.GRB.BINARY)\n",
    "# State of energy after travelling on link 𝑎 is no greater than the battery capacity\n",
    "for p in range(len(paths)):\n",
    "    # formula 4: initial state of energy\n",
    "    a0 = paths[p][0]\n",
    "    WCL.addConstr(B[a0,p] == 0.35)\n",
    "    for i in range(1,len(paths[p])-1):\n",
    "        b = paths[p][i-1]\n",
    "        a = paths[p][i]\n",
    "        print(f\"i:\",i,\"b:\",b,\"a:\",a)\n",
    "        # formula 5: state of energy after traversing link 𝑎 on path 𝑝\n",
    "        # length[a-1] instead of length[a] as in paper, because a starts from 1, but arrays do not\n",
    "        # for having B[a,p] == min(Bmax, energy):\n",
    "        energy = B[b,p] -0.00018 * length[a-1] + 0.33 * length[a-1]/900 * x[a]\n",
    "        WCL.addConstr(B[a,p] <= 0.5)\n",
    "        WCL.addConstr(B[a,p] <= energy)\n",
    "        WCL.addConstr(B[a,p] >= 0.5 - 1000 * G[a,p])\n",
    "        WCL.addConstr(B[a,p] >= energy - 1000 * (1-G[a,p]))\n",
    "    for a in link[1:-1]: # formula 6: feasibility of path. M chosen to be 1000\n",
    "        if a in paths[p]:\n",
    "            WCL.addConstr(B[a,p] >= 10 * (y[\"EV\",p] - 1))\n",
    "# Exactly one path must be chosen\n",
    "#WCL.addConstr(gb.quicksum(y[\"EV\",p] for p in range(len(paths))) == 1)"
   ]
  },
  {
   "cell_type": "code",
   "execution_count": 52,
   "id": "124cb4b5",
   "metadata": {},
   "outputs": [],
   "source": [
    "# Flow capacity\n",
    "\n",
    "# Compute Kronecker's delta for constraint 19\n",
    "deltaKron = {}\n",
    "for p in range(len(paths)):\n",
    "    for a in link:\n",
    "        deltaKron[p,a] = 1 if a in paths[p] else 0\n",
    "\n",
    "# alpha aggregate link-based share factor of vehicle class 𝑚 of formula 14, must be defined as a variable\n",
    "# because it depends on u and otherwise it cannot be computed\n",
    "alpha = WCL.addVars([link_source], M, t_idx, lb=0.0, ub=1.0)\n",
    "\n",
    "# Compute alpha of formula 14: aggregate link-based share factor of vehicle class 𝑚\n",
    "WCL.addConstr(gb.quicksum(alpha[link_source,m,t] for m in M for t in t_idx) == 1)\n",
    "alpha_EV = gb.quicksum(u[link_source,\"EV\",t] for t in t_idx)\n",
    "alpha_ICV = gb.quicksum(u[link_source,\"ICV\",t] for t in t_idx)\n",
    "den_alpha = alpha_EV + alpha_ICV\n",
    "WCL.addConstr(gb.quicksum(alpha[link_source,\"EV\",t] for t in t_idx) * den_alpha == alpha_EV)\n",
    "WCL.addConstr(gb.quicksum(alpha[link_source,\"ICV\",t] for t in t_idx) * den_alpha == alpha_ICV)\n",
    "\n",
    "for t in t_idx:\n",
    "    # formula 15: source link constraint is the demand rate of vehicle M at time step t\n",
    "    WCL.addConstr(u[link_source,\"EV\",t] == 36)\n",
    "    WCL.addConstr(u[link_source,\"ICV\",t] == 36)\n",
    "    # formula 18: sink link constraint\n",
    "    WCL.addConstr(v[link_sink,\"EV\",t] == 0)\n",
    "    WCL.addConstr(v[link_sink,\"ICV\",t] == 0)\n",
    "\n",
    "for a in link:\n",
    "    for t in t_idx:\n",
    "        # Formula 12: conservation of vehicle numbers\n",
    "        WCL.addConstr(n[a,\"EV\",t] == gb.quicksum(u[a,\"EV\",k] - v[a,\"EV\",k] for k in range(t+1)))\n",
    "        WCL.addConstr(n[a,\"ICV\",t] == gb.quicksum(u[a,\"ICV\",k] - v[a,\"ICV\",k] for k in range(t+1)))\n",
    "        if a != link[0] and a!= link[-1]:\n",
    "            # formula 13: upstream capacity\n",
    "            t_in = max(0, round(t - length[a-1]/900 + 1))\n",
    "            WCL.addConstr(gb.quicksum(u[a,\"EV\",k] for k in range(t_in,t+1)) <= n[a,\"EV\",t])\n",
    "            WCL.addConstr(gb.quicksum(u[a,\"ICV\",k] for k in range(t_in,t+1)) <= n[a,\"ICV\",t])\n",
    "            # formula 14: downstream capacity\n",
    "            t_out = max(0, round(t - length[a-1]/450 + 1))\n",
    "            WCL.addConstr(n[a,\"EV\",t] + gb.quicksum(v[a,\"EV\",k] for k in range(t_out,t+1)) <= 0.12 * length[a-1] * alpha[link_source,\"EV\",t])\n",
    "            WCL.addConstr(n[a,\"ICV\",t] + gb.quicksum(v[a,\"ICV\",k] for k in range(t_out,t+1)) <= 0.12 * length[a-1] * alpha[link_source,\"ICV\",t])\n",
    "            # formula 19: flow capacity of EV on links\n",
    "            WCL.addConstr(gb.quicksum(f[b,a,\"EV\",t] for b in link[:-1]) <= 36 * gb.quicksum(deltaKron[p,a] * y[\"EV\",p] for p in range(len(paths))))\n",
    "            WCL.addConstr(gb.quicksum(f[b,a,\"ICV\",t] for b in link[:-1]) <= 36 * gb.quicksum(deltaKron[p,a] * y[\"ICV\",p] for p in range(len(paths))))\n",
    "\n",
    "        if a != link[0]: # no source link\n",
    "            # formula 16: flux conservation for incoming vehicles\n",
    "            WCL.addConstr(u[a,\"EV\",t] == gb.quicksum(f[b,a,\"EV\",t] for b in link[:-1]))\n",
    "            WCL.addConstr(u[a,\"ICV\",t] == gb.quicksum(f[b,a,\"ICV\",t] for b in link[:-1]))\n",
    "        if a != link[-1]: # no sink link\n",
    "            # formula 17:  flux conservation for outgoing vehicles\n",
    "            WCL.addConstr(v[a,\"EV\",t] == gb.quicksum(f[a,b,\"EV\",t] for b in link[1:]))\n",
    "            WCL.addConstr(v[a,\"ICV\",t] == gb.quicksum(f[a,b,\"ICV\",t] for b in link[1:]))"
   ]
  },
  {
   "cell_type": "markdown",
   "id": "117641ab",
   "metadata": {},
   "source": [
    "## Altra modifica\n",
    "Qua ho dovuto aggiungere S come variabile cui mettere un constraint (36 o l'espressione) perché non si può fare min(36, quicksum) perché Python non può confrontare un intero e una linear expression di Guroby"
   ]
  },
  {
   "cell_type": "code",
   "execution_count": 53,
   "id": "f714d706",
   "metadata": {},
   "outputs": [],
   "source": [
    "# Supply and demand at node\n",
    "\n",
    "# Since the minimum between an int and a linear expression of Gurobi cannot be done,\n",
    "# define supply and demand as variables with constraint to be smaller them\n",
    "S = WCL.addVars(link, t_idx, lb=0.0)\n",
    "D = WCL.addVars(link, t_idx, lb=0.0)\n",
    "for a in link[1:-1]:\n",
    "    for t in t_idx:\n",
    "        # formula 20\n",
    "        inflow_s = gb.quicksum(u[a,m,k] for k in range(0,t) for m in M)\n",
    "        outflow_s = gb.quicksum(v[a,m,k] for k in range(0, round(t - length[a-1]/900)) for m in M)\n",
    "        supply_sum = 0.12 * length[a-1] + outflow_s - inflow_s\n",
    "        WCL.addConstr(S[a,t] <= 36)\n",
    "        WCL.addConstr(S[a,t] <= supply_sum)\n",
    "        # formula 22: \n",
    "        WCL.addConstr(gb.quicksum(u[a,m,t] for m in M) <= S[a,t])\n",
    "                             \n",
    "        # formula 21\n",
    "        inflow_d = gb.quicksum(v[a,m,k] for k in range(0,t) for m in M)\n",
    "        outflow_d = gb.quicksum(u[a,m,k] for k in range(0, round(t - length[a-1]/450)) for m in M)\n",
    "        demand_sum = outflow_d - inflow_d\n",
    "        WCL.addConstr(D[a,t] <= 36)\n",
    "        WCL.addConstr(D[a,t] <= demand_sum)\n",
    "        # formula 23: \n",
    "        WCL.addConstr(gb.quicksum(v[a,m,t] for m in M) <= D[a,t])"
   ]
  },
  {
   "cell_type": "code",
   "execution_count": 54,
   "id": "fdc3497d",
   "metadata": {},
   "outputs": [],
   "source": [
    "WCL.setObjective(gb.quicksum((len(t_idx) + 1 - t) * f[b, link[-1], m, t] for m in M for t in t_idx for b in link[:-1]))\n",
    "WCL.optimize()"
   ]
  },
  {
   "cell_type": "code",
   "execution_count": null,
   "id": "82a01754",
   "metadata": {},
   "outputs": [],
   "source": [
    "# formula 41 con u\n",
    "WCL.setObjective(gb.quicksum(u[link[-1],m,t] for t in np.arange(0, T+timestep, timestep) for m in M))\n",
    "WCL.optimize()"
   ]
  },
  {
   "cell_type": "code",
   "execution_count": null,
   "id": "39a8f7b4",
   "metadata": {},
   "outputs": [],
   "source": [
    "# formula 40\n",
    "WCL.modelSense = gb.GRB.MINIMIZE\n",
    "WCL.setObjective(gb.quicksum(n[a,m,t] for m in M for t in np.arange(0, T+timestep, timestep) for a in link[0:-1]))\n",
    "WCL.optimize()"
   ]
  },
  {
   "cell_type": "code",
   "execution_count": 55,
   "id": "ac6cf4c9",
   "metadata": {},
   "outputs": [
    {
     "name": "stdout",
     "output_type": "stream",
     "text": [
      "⚠️ Il modello non è stato risolto correttamente. Status: 3\n"
     ]
    }
   ],
   "source": [
    "if WCL.status == gb.GRB.OPTIMAL or WCL.status == gb.GRB.SUBOPTIMAL:\n",
    "    for a in link:\n",
    "        if x[a].x > 0.5:\n",
    "            print(f\"Link {a} ha WCL installato.\")\n",
    "else:\n",
    "    print(f\"⚠️ Il modello non è stato risolto correttamente. Status: {WCL.status}\")"
   ]
  },
  {
   "cell_type": "code",
   "execution_count": 41,
   "id": "02c2240e",
   "metadata": {
    "scrolled": true
   },
   "outputs": [
    {
     "name": "stdout",
     "output_type": "stream",
     "text": [
      "\n",
      "🔌 Link selezionati per WCL:\n"
     ]
    },
    {
     "ename": "AttributeError",
     "evalue": "Unable to retrieve attribute 'x'",
     "output_type": "error",
     "traceback": [
      "\u001b[0;31m---------------------------------------------------------------------------\u001b[0m",
      "\u001b[0;31mAttributeError\u001b[0m                            Traceback (most recent call last)",
      "Cell \u001b[0;32mIn[41], line 3\u001b[0m\n\u001b[1;32m      1\u001b[0m \u001b[38;5;28mprint\u001b[39m(\u001b[38;5;124m\"\u001b[39m\u001b[38;5;130;01m\\n\u001b[39;00m\u001b[38;5;124m🔌 Link selezionati per WCL:\u001b[39m\u001b[38;5;124m\"\u001b[39m)\n\u001b[1;32m      2\u001b[0m \u001b[38;5;28;01mfor\u001b[39;00m a \u001b[38;5;129;01min\u001b[39;00m link:\n\u001b[0;32m----> 3\u001b[0m     \u001b[38;5;28;01mif\u001b[39;00m \u001b[43mx\u001b[49m\u001b[43m[\u001b[49m\u001b[43ma\u001b[49m\u001b[43m]\u001b[49m\u001b[38;5;241;43m.\u001b[39;49m\u001b[43mx\u001b[49m \u001b[38;5;241m>\u001b[39m \u001b[38;5;241m0.5\u001b[39m:\n\u001b[1;32m      4\u001b[0m         \u001b[38;5;28mprint\u001b[39m(\u001b[38;5;124mf\u001b[39m\u001b[38;5;124m\"\u001b[39m\u001b[38;5;124m  - Link \u001b[39m\u001b[38;5;132;01m{\u001b[39;00ma\u001b[38;5;132;01m}\u001b[39;00m\u001b[38;5;124m\"\u001b[39m)\n\u001b[1;32m      6\u001b[0m \u001b[38;5;28mprint\u001b[39m(\u001b[38;5;124m\"\u001b[39m\u001b[38;5;130;01m\\n\u001b[39;00m\u001b[38;5;124m🚗 Path selezionati per EV:\u001b[39m\u001b[38;5;124m\"\u001b[39m)\n",
      "File \u001b[0;32msrc/gurobipy/var.pxi:125\u001b[0m, in \u001b[0;36mgurobipy.Var.__getattr__\u001b[0;34m()\u001b[0m\n",
      "File \u001b[0;32msrc/gurobipy/var.pxi:153\u001b[0m, in \u001b[0;36mgurobipy.Var.getAttr\u001b[0;34m()\u001b[0m\n",
      "File \u001b[0;32msrc/gurobipy/attrutil.pxi:100\u001b[0m, in \u001b[0;36mgurobipy.__getattr\u001b[0;34m()\u001b[0m\n",
      "\u001b[0;31mAttributeError\u001b[0m: Unable to retrieve attribute 'x'"
     ]
    }
   ],
   "source": [
    "print(\"\\n🔌 Link selezionati per WCL:\")\n",
    "for a in link:\n",
    "    if x[a].x > 0.5:\n",
    "        print(f\"  - Link {a}\")\n",
    "        \n",
    "print(\"\\n🚗 Path selezionati per EV:\")\n",
    "for p in range(len(paths)):\n",
    "    if y[\"EV\", p].X > 0.5:\n",
    "        print(f\"  - Path {paths[p]}\")\n",
    "        \n",
    "print(f\"\\n🎯 Valore funzione obiettivo (outflow): {WCL.ObjVal:.2f}\")\n",
    "        \n",
    "print(\"\\n🔋 Stato di energia B[a, p]:\")\n",
    "for p in range(len(paths)):\n",
    "    for a in link:\n",
    "        if (a, p) in B:\n",
    "            val = B[a, p].X\n",
    "            if val > 1e-4:\n",
    "                print(f\"  B[{a}, {p}] = {val:.4f}\")\n",
    "                \n",
    "print(\"\\n📈 Flusso in entrata e uscita (solo se > 0):\")\n",
    "for a in link:\n",
    "    for t_index, t in enumerate(time_indices):\n",
    "        for m in M:\n",
    "            if u[a, m, t_index].X > 1e-3 or v[a, m, t_index].X > 1e-3:\n",
    "                print(f\"  t={t:.2f}, link={a}, tipo={m}: u = {u[a,m,t_index].X:.2f}, v = {v[a,m,t_index].X:.2f}\")\n",
    "                \n",
    "print(\"\\n↔️ Flusso f[a, b, m, t] (solo se > 0):\")\n",
    "for a in link:\n",
    "    for b in link:\n",
    "        for m in M:\n",
    "            for t_index, t in enumerate(time_indices):\n",
    "                if f[a, b, m, t].X > 1e-3:\n",
    "                    print(f\"  f[{a},{b},{m},{t:.2f}] = {f[a,b,m,t_index].X:.2f}\")"
   ]
  }
 ],
 "metadata": {
  "kernelspec": {
   "display_name": "Python 3 (ipykernel)",
   "language": "python",
   "name": "python3"
  },
  "language_info": {
   "codemirror_mode": {
    "name": "ipython",
    "version": 3
   },
   "file_extension": ".py",
   "mimetype": "text/x-python",
   "name": "python",
   "nbconvert_exporter": "python",
   "pygments_lexer": "ipython3",
   "version": "3.11.3"
  }
 },
 "nbformat": 4,
 "nbformat_minor": 5
}
