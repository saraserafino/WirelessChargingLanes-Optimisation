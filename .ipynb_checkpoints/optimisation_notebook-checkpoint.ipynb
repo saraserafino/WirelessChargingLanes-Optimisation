{
 "cells": [
  {
   "cell_type": "code",
   "execution_count": 2,
   "id": "325fbc5c",
   "metadata": {},
   "outputs": [],
   "source": [
    "from gurobipy import *\n",
    "import gurobipy as gb\n",
    "import numpy as np"
   ]
  },
  {
   "cell_type": "code",
   "execution_count": 3,
   "id": "38b0a164",
   "metadata": {},
   "outputs": [],
   "source": [
    "class EV: # Electric Vehicles\n",
    "    def __init__(self, scalability):\n",
    "        self.B0 = 0.35 # initial energy\n",
    "        self.energy = 0.35 # initial state of energy\n",
    "        if scalability is True: # For grid Network\n",
    "            self.Bmax = 1.0 # battery capacity\n",
    "        else: # For Braess networks\n",
    "            self.Bmax = 0.5\n",
    "        # Traffic parameters\n",
    "        self.Va = 900 # m/min, free-flow speed\n",
    "        self.Wa = 450 # m/min, backward speed\n",
    "        self.Ka = 0.12 # vehicles/min, jam density for each link 𝑎\n",
    "        self.Qa = 36 # vehicles * m / min^2, maximum flow capacity\n",
    "        self.Ca = 0.04 # vehicles/min, critical density\n",
    "        self.Da = 36 # vehicles/min, demand rate\n",
    "\n",
    "        self.omega = 0.33 # amount of energy received when traversing oncharging link per time unit\n",
    "        self.epsilon = 0.00018 # electricity consumption rate\n",
    "    \n",
    "\n",
    "class ICV: # Internal Combustion Vehicles\n",
    "    def __init__(self, scalability):\n",
    "        # Traffic parameters\n",
    "        self.Va = 900 # m/min, free-flow speed\n",
    "        self.Wa = 450 # m/min, backward speed\n",
    "        self.Ka = 0.12 # vehicles/min, jam density for each link 𝑎\n",
    "        self.Qa = 36 # vehicles * m / min^2, maximum flow capacity\n",
    "        self.Ca = 0.04 # vehicles/min, critical density\n",
    "        self.Da = 36 # vehicles/min, demand rate"
   ]
  },
  {
   "cell_type": "code",
   "execution_count": 4,
   "id": "1e651891",
   "metadata": {},
   "outputs": [
    {
     "name": "stdout",
     "output_type": "stream",
     "text": [
      "Set parameter Username\n",
      "Academic license - for non-commercial use only - expires 2026-05-06\n"
     ]
    }
   ],
   "source": [
    "# Chose some parameters:\n",
    "scalability = False # True for Braess networks, True for grid networks\n",
    "budget = 30000\n",
    "\n",
    "\n",
    "WCL = gb.Model()\n",
    "WCL.modelSense = gb.GRB.MAXIMIZE\n",
    "WCL.setParam('OutputFlag', 0) # this is used to quite the xpress outputs (no printing)\n",
    "\n",
    "M = [\"EV\", \"ICV\"] # class of vehicles\n",
    "\n",
    "# The following lists are taken with respect to problem scalability\n",
    "# seguendo le figure del paper in un file apposito scriviamo il dizionario\n",
    "######### per ora Braess network\n",
    "link_length = {1: 0, 2: 900, 3: 1800, 4: 900, 5: 3600, 6: 900, 7: 0}\n",
    "#link = [i for i in range(len(link_length))] # lista dei link es. (1,2),(1,3)\n",
    "link = list(link_length.keys())\n",
    "link_source = link[0]\n",
    "link_sink = link [-1]\n",
    "length = list(link_length.values())\n",
    "paths = [[1,2,4,6,7], [1,2,5,7], [1,3,6,7]] # lista dei percorsi\n",
    "timestep = 0.25 # time steps che dipende da scalabilità\n",
    "T = 60"
   ]
  },
  {
   "cell_type": "code",
   "execution_count": 19,
   "id": "f04971ad",
   "metadata": {},
   "outputs": [],
   "source": [
    "x = WCL.addVars(link, vtype=gb.GRB.BINARY) # 1 if link a has WCL\n",
    "y = WCL.addVars(M, len(paths), vtype=gb.GRB.BINARY) # 1 if path p is feasible for vehicle m\n",
    "B = WCL.addVars(link, len(paths), lb=0.0, ub=0.5) # state of energy, bounded between being positive and max capacity\n",
    "\n",
    "n = WCL.addVars(link, M, np.arange(0, T + timestep, timestep), lb=0) # number of vehicles M on link 𝑎 at time t\n",
    "u = WCL.addVars(link, M, np.arange(0, T + timestep, timestep), lb=0) # incoming traffic flow of vehicle M to link 𝑎 at time t\n",
    "v = WCL.addVars(link, M, np.arange(0, T + timestep, timestep), lb=0) # outgoing traffic flow of vehicle M to link 𝑎 at time t\n",
    "f = WCL.addVars(link, link, M, np.arange(0, T + timestep, timestep), lb=0) # upstream traffic of vehicle M at link b, coming from downstream traffic at link a\n",
    "# These variables are already defined with the constraint of non-negativity (formula 24)"
   ]
  },
  {
   "cell_type": "code",
   "execution_count": 20,
   "id": "2f05e1ff",
   "metadata": {},
   "outputs": [
    {
     "name": "stdout",
     "output_type": "stream",
     "text": [
      "i: 1 b: 1 a: 2\n",
      "i: 2 b: 2 a: 4\n",
      "i: 3 b: 4 a: 6\n",
      "i: 4 b: 6 a: 7\n",
      "i: 1 b: 1 a: 2\n",
      "i: 2 b: 2 a: 5\n",
      "i: 3 b: 5 a: 7\n",
      "i: 1 b: 1 a: 3\n",
      "i: 2 b: 3 a: 6\n",
      "i: 3 b: 6 a: 7\n"
     ]
    },
    {
     "data": {
      "text/plain": [
       "<gurobi.Constr *Awaiting Model Update*>"
      ]
     },
     "execution_count": 20,
     "metadata": {},
     "output_type": "execute_result"
    }
   ],
   "source": [
    "# Feasibility of path\n",
    "WCL.addConstr(gb.quicksum(length[a] * x[a+1] for a in range(len(link))) <= budget) # formula 3: budget\n",
    "# State of energy after travelling on link 𝑎 is no greater than the battery capacity\n",
    "for p in range(len(paths)):\n",
    "    # energia iniziale serve rimetterla?? tanto è già da EV. In caso:\n",
    "    # a0 = (paths[p][0], paths[p][1])\n",
    "    # WCL.addConstr(B[a0,p] == B0)\n",
    "    for i in range(1,len(paths[p])):\n",
    "        b = paths[p][i-1]\n",
    "        a = paths[p][i]################ PRIMA ERA if i+1<length[p] else b MA SEMPLICEMENTE STAMPO QUELLO DOPO\n",
    "        print(f\"i:\",i,\"b:\",b,\"a:\",a)\n",
    "        # formula 5: state of energy after traversing link 𝑎 on path 𝑝\n",
    "        WCL.addConstr(B[a,p] <= B[b,p] -0.00018 * length[a-1] + 0.33 * length[a-1]/900 * x[a])\n",
    "    for a in link: # formula 6: feasibility of path. M chosen to be 1000\n",
    "        WCL.addConstr(B[a,p] >= 1000 * (y[\"EV\",p]) - 1)\n",
    "# Exactly one path must be chosen\n",
    "WCL.addConstr(gb.quicksum(y[\"EV\",p] for p in range(len(paths))) == 1)"
   ]
  },
  {
   "cell_type": "code",
   "execution_count": 21,
   "id": "9a7bb22d",
   "metadata": {},
   "outputs": [],
   "source": [
    "# Flow capacity\n",
    "\n",
    "# Compute Kronecker's delta for constraint 19\n",
    "deltaKron = {}\n",
    "for p_idx in range(len(paths)):\n",
    "    for a in link:\n",
    "        deltaKron[p_idx,a] = 1 if a in paths[p_idx] else 0"
   ]
  },
  {
   "cell_type": "markdown",
   "id": "270f3210",
   "metadata": {},
   "source": [
    "### Come avevamo fatto ieri:"
   ]
  },
  {
   "cell_type": "code",
   "execution_count": 125,
   "id": "9ff7e955",
   "metadata": {},
   "outputs": [],
   "source": [
    "######################################################\n",
    "for p_idx, path in enumerate(paths):\n",
    "    # Check if link a is in the path\n",
    "    arc_list = list(zip(path[:-1], path[1:]))\n",
    "    for a in link:\n",
    "        deltaKron[p_idx,a] = 1 if a in arc_list else 0"
   ]
  },
  {
   "cell_type": "markdown",
   "id": "561019e0",
   "metadata": {},
   "source": [
    "Praticamente stampava arc_list=[(1,2),(2,4),(4,6),(6,7)] e analogo per gli altri due paths ma poi la delta di Kronecker veniva tutto 0 perché cercava se a appartenente a link (quindi [1,2,...,7]) appartenesse ad arc_list quindi ovviamente non lo trovava essendo due cose diverse.\n",
    "\n",
    "Semplicemente vedo se a è nel path intero (es [1,2,4,6,7]) quindi in questo caso restituirà 1,1,0,1,0,1,1"
   ]
  },
  {
   "cell_type": "code",
   "execution_count": 201,
   "id": "98e2a79b",
   "metadata": {},
   "outputs": [
    {
     "name": "stdout",
     "output_type": "stream",
     "text": [
      "{(0, 1): 1, (0, 2): 1, (0, 3): 0, (0, 4): 1, (0, 5): 0, (0, 6): 1, (0, 7): 1, (1, 1): 1, (1, 2): 1, (1, 3): 0, (1, 4): 0, (1, 5): 1, (1, 6): 0, (1, 7): 1, (2, 1): 1, (2, 2): 0, (2, 3): 1, (2, 4): 0, (2, 5): 0, (2, 6): 1, (2, 7): 1}\n"
     ]
    }
   ],
   "source": [
    "print(deltaKron)"
   ]
  },
  {
   "cell_type": "markdown",
   "id": "7dc2f961",
   "metadata": {},
   "source": [
    "## Altre modifiche\n",
    "Qua sotto ho sistemato il range di t scrivendo T+timestep altrimenti non arrivava a 60. E siccome ho sistemato delta kronecker, ho sistemato la formula 19 di conseguenza.\n",
    "\n",
    "Ho aggiunto quella parte degli if perché, intanto non avevamo tenuto conto che nemmeno a doveva essere non source o non sink o normal link. Inoltre ho tolto quei in_nb e out_nb che avevamo definito per dire \"b in ..\" e semplicemente ho messo link[1:] etc\n",
    "\n",
    "Però nella formula 14 avremmo 0.12*l*alpha dove alpha is aggregate link-based share factor of vehicle class 𝑚. Ci siamo scordate di alpha o cosa era?"
   ]
  },
  {
   "cell_type": "code",
   "execution_count": 22,
   "id": "124cb4b5",
   "metadata": {},
   "outputs": [
    {
     "data": {
      "text/plain": [
       "<gurobi.Constr *Awaiting Model Update*>"
      ]
     },
     "execution_count": 22,
     "metadata": {},
     "output_type": "execute_result"
    }
   ],
   "source": [
    "for a in link:\n",
    "    for t in np.arange(0, T + timestep, timestep):\n",
    "        # Formula 12: conservation of vehicle numbers\n",
    "        WCL.addConstr(n[a,\"EV\",t] == gb.quicksum(u[a,\"EV\",k] - v[a,\"EV\",k] for k in np.arange(t+1)))\n",
    "        WCL.addConstr(n[a,\"ICV\",t] == gb.quicksum(u[a,\"ICV\",k] - v[a,\"ICV\",k] for k in np.arange(t+1)))\n",
    "        # formula 13: upstream capacity\n",
    "        t_in = max(0, t - int(length[a-1]/900))\n",
    "        WCL.addConstr(gb.quicksum(u[a,\"EV\",k] for k in np.arange(t_in,t+1)) <= n[a,\"EV\",t])\n",
    "        WCL.addConstr(gb.quicksum(u[a,\"ICV\",k] for k in np.arange(t_in,t+1)) <= n[a,\"ICV\",t])\n",
    "        # formula 14: downstream capacity\n",
    "        t_out = max(0, t - int(length[a-1]/450))\n",
    "        WCL.addConstr(n[a,\"EV\",t] + gb.quicksum(v[a,\"EV\",k] for k in np.arange(t_out,t+1)) <= 0.12 * length[a-1])\n",
    "        WCL.addConstr(n[a,\"ICV\",t] + gb.quicksum(v[a,\"ICV\",k] for k in np.arange(t_out,t+1)) <= 0.12 * length[a-1])\n",
    "        ################# manca alpha????\n",
    "        \n",
    "        if a != link[0]: # no source link\n",
    "            # formula 16: flux conservation for incoming vehicles\n",
    "            WCL.addConstr(u[a,\"EV\",t] == gb.quicksum(f[b,a,\"EV\",t] for b in link[1:]))\n",
    "            WCL.addConstr(u[a,\"ICV\",t] == gb.quicksum(f[b,a,\"ICV\",t] for b in link[1:]))\n",
    "        if a != link[-1]: # no sink link\n",
    "            # formula 17:  flux conservation for outgoing vehicles\n",
    "            WCL.addConstr(v[a,\"EV\",t] == gb.quicksum(f[b,a,\"EV\",t] for b in link[:-1]))\n",
    "            WCL.addConstr(v[a,\"ICV\",t] == gb.quicksum(f[b,a,\"ICV\",t] for b in link[:-1]))\n",
    "            if a != link[0]: # neither source link so a is normal link\n",
    "                # formula 19: flow capacity of EV on links\n",
    "                WCL.addConstr(gb.quicksum(f[b,a,\"EV\",t] for b in link[1:-1]) <= 36 * gb.quicksum(deltaKron[p_idx,a] * y[\"EV\",p_idx] for p_idx in range(len(paths))))\n",
    "                WCL.addConstr(gb.quicksum(f[b,a,\"ICV\",t] for b in link[1:-1]) <= 36 * gb.quicksum(deltaKron[p_idx,a] * y[\"ICV\",p_idx] for p_idx in range(len(paths))))\n",
    "\n",
    "# formula 15: source link constraint is the demand rate of vehicle M at time step t\n",
    "WCL.addConstr(u[a,\"EV\",t] == 36)\n",
    "WCL.addConstr(u[a,\"ICV\",t] == 36)\n",
    "# formula 18: sink link constraint\n",
    "WCL.addConstr(v[a,\"EV\",t] == 0)\n",
    "WCL.addConstr(v[a,\"ICV\",t] == 0)"
   ]
  },
  {
   "cell_type": "markdown",
   "id": "117641ab",
   "metadata": {},
   "source": [
    "## Altra modifica\n",
    "Qua ho dovuto aggiungere S come variabile cui mettere un constraint (36 o l'espressione) perché non si può fare min(36, quicksum) perché Python non può confrontare un intero e una linear expression di Guroby"
   ]
  },
  {
   "cell_type": "code",
   "execution_count": 23,
   "id": "f714d706",
   "metadata": {},
   "outputs": [],
   "source": [
    "# Supply and demand at node\n",
    "\n",
    "# Since the minimum between an int and a linear expression of Gurobi cannot be done,\n",
    "# define supply and demand as variables with constraint to be smaller them\n",
    "S = WCL.addVars(link, np.arange(0, T + timestep, timestep), lb=0)\n",
    "D = WCL.addVars(link, np.arange(0, T + timestep, timestep), lb=0)\n",
    "for a in link:\n",
    "    for t in np.arange(0, T+timestep, timestep):\n",
    "        ######### poi check se supply e demand sum sono uguali per EV e ICV e quindi basta calcolarle una volta\n",
    "        # formula 20\n",
    "        inflow_s = gb.quicksum(u[a,\"EV\",k] for k in np.arange(0,t))\n",
    "        outflow_s = gb.quicksum(v[a,\"EV\",k] for k in np.arange(0, t - int(length[a-1]/900)))\n",
    "        supply_sum = 0.12 * length[a-1] + outflow_s - inflow_s\n",
    "        WCL.addConstr(S[a,t] <= 36)\n",
    "        WCL.addConstr(S[a,t] <= supply_sum)\n",
    "        # formula 22: \n",
    "        WCL.addConstr(u[a,\"EV\",t] <= S[a,t])\n",
    "        \n",
    "        # Idem for ICV\n",
    "        inflow_s = gb.quicksum(u[a,\"ICV\",k] for k in np.arange(0,t))\n",
    "        outflow_s = gb.quicksum(v[a,\"ICV\",k] for k in np.arange(0, t - int(length[a-1]/900)))\n",
    "        supply_sum = 0.12 * length[a-1] + outflow_s - inflow_s\n",
    "        WCL.addConstr(S[a,t] <= 36)\n",
    "        WCL.addConstr(S[a,t] <= supply_sum)\n",
    "        WCL.addConstr(u[a,\"ICV\",t] <= S[a,t])\n",
    "                             \n",
    "        # formula 21\n",
    "        inflow_d = gb.quicksum(v[a,\"EV\",k] for k in np.arange(0,t))\n",
    "        outflow_d = gb.quicksum(u[a,\"EV\",k] for k in np.arange(0, t - int(length[a-1]/450)))\n",
    "        demand_sum = outflow_d - inflow_d\n",
    "        WCL.addConstr(D[a,t] <= 36)\n",
    "        WCL.addConstr(D[a,t] <= demand_sum)\n",
    "        # formula 23: \n",
    "        WCL.addConstr(u[a,\"EV\",t] <= D[a,t])\n",
    "        \n",
    "        # Idem for ICV\n",
    "        inflow_d = gb.quicksum(v[a,\"ICV\",k] for k in np.arange(0,t))\n",
    "        outflow_d = gb.quicksum(u[a,\"ICV\",k] for k in np.arange(0, t - int(length[a-1]/450)))\n",
    "        demand_sum = outflow_d - inflow_d\n",
    "        WCL.addConstr(D[a,t] <= 36)\n",
    "        WCL.addConstr(D[a,t] <= demand_sum)\n",
    "        WCL.addConstr(u[a,\"ICV\",t] <= D[a,t])"
   ]
  },
  {
   "cell_type": "code",
   "execution_count": 232,
   "id": "a05b8089",
   "metadata": {},
   "outputs": [
    {
     "ename": "TypeError",
     "evalue": "'int' object is not iterable",
     "output_type": "error",
     "traceback": [
      "\u001b[0;31m---------------------------------------------------------------------------\u001b[0m",
      "\u001b[0;31mTypeError\u001b[0m                                 Traceback (most recent call last)",
      "Cell \u001b[0;32mIn[232], line 1\u001b[0m\n\u001b[0;32m----> 1\u001b[0m WCL\u001b[38;5;241m.\u001b[39msetObjective(\u001b[43mgb\u001b[49m\u001b[38;5;241;43m.\u001b[39;49m\u001b[43mquicksum\u001b[49m\u001b[43m(\u001b[49m\u001b[43m(\u001b[49m\u001b[38;5;28;43mlen\u001b[39;49m\u001b[43m(\u001b[49m\u001b[43mnp\u001b[49m\u001b[38;5;241;43m.\u001b[39;49m\u001b[43marange\u001b[49m\u001b[43m(\u001b[49m\u001b[38;5;241;43m0\u001b[39;49m\u001b[43m,\u001b[49m\u001b[43m \u001b[49m\u001b[43mT\u001b[49m\u001b[38;5;241;43m+\u001b[39;49m\u001b[43mtimestep\u001b[49m\u001b[43m,\u001b[49m\u001b[43m \u001b[49m\u001b[43mtimestep\u001b[49m\u001b[43m)\u001b[49m\u001b[43m)\u001b[49m\u001b[43m \u001b[49m\u001b[38;5;241;43m+\u001b[39;49m\u001b[43m \u001b[49m\u001b[38;5;241;43m1\u001b[39;49m\u001b[43m \u001b[49m\u001b[38;5;241;43m-\u001b[39;49m\u001b[43m \u001b[49m\u001b[43mt\u001b[49m\u001b[43m)\u001b[49m\u001b[43m \u001b[49m\u001b[38;5;241;43m*\u001b[39;49m\u001b[43m \u001b[49m\u001b[43mf\u001b[49m\u001b[43m[\u001b[49m\u001b[43mb\u001b[49m\u001b[43m,\u001b[49m\u001b[43m \u001b[49m\u001b[43ma\u001b[49m\u001b[43m,\u001b[49m\u001b[43m \u001b[49m\u001b[43mm\u001b[49m\u001b[43m,\u001b[49m\u001b[43m \u001b[49m\u001b[43mt\u001b[49m\u001b[43m]\u001b[49m\u001b[43m \u001b[49m\u001b[38;5;28;43;01mfor\u001b[39;49;00m\u001b[43m \u001b[49m\u001b[43mm\u001b[49m\u001b[43m \u001b[49m\u001b[38;5;129;43;01min\u001b[39;49;00m\u001b[43m \u001b[49m\u001b[43mM\u001b[49m\u001b[43m \u001b[49m\u001b[38;5;28;43;01mfor\u001b[39;49;00m\u001b[43m \u001b[49m\u001b[43mt\u001b[49m\u001b[43m \u001b[49m\u001b[38;5;129;43;01min\u001b[39;49;00m\u001b[43m \u001b[49m\u001b[43mnp\u001b[49m\u001b[38;5;241;43m.\u001b[39;49m\u001b[43marange\u001b[49m\u001b[43m(\u001b[49m\u001b[38;5;241;43m0\u001b[39;49m\u001b[43m,\u001b[49m\u001b[43m \u001b[49m\u001b[43mT\u001b[49m\u001b[38;5;241;43m+\u001b[39;49m\u001b[43mtimestep\u001b[49m\u001b[43m,\u001b[49m\u001b[43m \u001b[49m\u001b[43mtimestep\u001b[49m\u001b[43m)\u001b[49m\u001b[43m \u001b[49m\u001b[38;5;28;43;01mfor\u001b[39;49;00m\u001b[43m \u001b[49m\u001b[43ma\u001b[49m\u001b[43m \u001b[49m\u001b[38;5;129;43;01min\u001b[39;49;00m\u001b[43m \u001b[49m\u001b[43mlink_sink\u001b[49m\u001b[43m \u001b[49m\u001b[38;5;28;43;01mfor\u001b[39;49;00m\u001b[43m \u001b[49m\u001b[43mb\u001b[49m\u001b[43m \u001b[49m\u001b[38;5;129;43;01min\u001b[39;49;00m\u001b[43m \u001b[49m\u001b[43mlink\u001b[49m\u001b[43m[\u001b[49m\u001b[38;5;241;43m1\u001b[39;49m\u001b[43m:\u001b[49m\u001b[43m]\u001b[49m\u001b[43m)\u001b[49m)\n\u001b[1;32m      2\u001b[0m WCL\u001b[38;5;241m.\u001b[39moptimize()\n",
      "File \u001b[0;32msrc/gurobipy/gurobi.pxi:3706\u001b[0m, in \u001b[0;36mgurobipy.quicksum\u001b[0;34m()\u001b[0m\n",
      "Cell \u001b[0;32mIn[232], line 1\u001b[0m, in \u001b[0;36m<genexpr>\u001b[0;34m(.0)\u001b[0m\n\u001b[0;32m----> 1\u001b[0m WCL\u001b[38;5;241m.\u001b[39msetObjective(gb\u001b[38;5;241m.\u001b[39mquicksum((\u001b[38;5;28mlen\u001b[39m(np\u001b[38;5;241m.\u001b[39marange(\u001b[38;5;241m0\u001b[39m, T\u001b[38;5;241m+\u001b[39mtimestep, timestep)) \u001b[38;5;241m+\u001b[39m \u001b[38;5;241m1\u001b[39m \u001b[38;5;241m-\u001b[39m t) \u001b[38;5;241m*\u001b[39m f[b, a, m, t] \u001b[38;5;28;01mfor\u001b[39;00m m \u001b[38;5;129;01min\u001b[39;00m M \u001b[38;5;28;01mfor\u001b[39;00m t \u001b[38;5;129;01min\u001b[39;00m np\u001b[38;5;241m.\u001b[39marange(\u001b[38;5;241m0\u001b[39m, T\u001b[38;5;241m+\u001b[39mtimestep, timestep) \u001b[38;5;28;01mfor\u001b[39;00m a \u001b[38;5;129;01min\u001b[39;00m link_sink \u001b[38;5;28;01mfor\u001b[39;00m b \u001b[38;5;129;01min\u001b[39;00m link[\u001b[38;5;241m1\u001b[39m:]))\n\u001b[1;32m      2\u001b[0m WCL\u001b[38;5;241m.\u001b[39moptimize()\n",
      "\u001b[0;31mTypeError\u001b[0m: 'int' object is not iterable"
     ]
    }
   ],
   "source": [
    "############## VECCHIA VERSIONE\n",
    "WCL.setObjective(gb.quicksum((len(np.arange(0, T, timestep)) + 1 - i) * f[a, b, i, m] for m in M for i in T for a in link_sink for b in link[1:]))\n",
    "WCL.optimize()"
   ]
  },
  {
   "cell_type": "code",
   "execution_count": 24,
   "id": "fdc3497d",
   "metadata": {},
   "outputs": [],
   "source": [
    "WCL.setObjective(gb.quicksum((len(np.arange(0, T+timestep, timestep)) + 1 - t) * f[b, link[-1], m, t] for m in M for t in np.arange(0, T+timestep, timestep) for b in link[1:]))\n",
    "WCL.optimize()"
   ]
  },
  {
   "cell_type": "code",
   "execution_count": 25,
   "id": "ac6cf4c9",
   "metadata": {},
   "outputs": [
    {
     "name": "stdout",
     "output_type": "stream",
     "text": [
      "⚠️ Il modello non è stato risolto correttamente. Status: 4\n"
     ]
    }
   ],
   "source": [
    "if WCL.status == gb.GRB.OPTIMAL or WCL.status == gb.GRB.SUBOPTIMAL:\n",
    "    for a in link:\n",
    "        if x[a].X > 0.5:\n",
    "            print(f\"Link {a} ha WCL installato.\")\n",
    "else:\n",
    "    print(f\"⚠️ Il modello non è stato risolto correttamente. Status: {WCL.status}\")"
   ]
  },
  {
   "cell_type": "markdown",
   "id": "815a7f3c",
   "metadata": {},
   "source": [
    "status 4 ossia model was proven to be either infeasible or unbounded"
   ]
  },
  {
   "cell_type": "code",
   "execution_count": 18,
   "id": "02c2240e",
   "metadata": {},
   "outputs": [
    {
     "name": "stdout",
     "output_type": "stream",
     "text": [
      "\n",
      "🔌 Link selezionati per WCL:\n"
     ]
    },
    {
     "ename": "AttributeError",
     "evalue": "Unable to retrieve attribute 'x'",
     "output_type": "error",
     "traceback": [
      "\u001b[0;31m---------------------------------------------------------------------------\u001b[0m",
      "\u001b[0;31mAttributeError\u001b[0m                            Traceback (most recent call last)",
      "Cell \u001b[0;32mIn[18], line 3\u001b[0m\n\u001b[1;32m      1\u001b[0m \u001b[38;5;28mprint\u001b[39m(\u001b[38;5;124m\"\u001b[39m\u001b[38;5;130;01m\\n\u001b[39;00m\u001b[38;5;124m🔌 Link selezionati per WCL:\u001b[39m\u001b[38;5;124m\"\u001b[39m)\n\u001b[1;32m      2\u001b[0m \u001b[38;5;28;01mfor\u001b[39;00m a \u001b[38;5;129;01min\u001b[39;00m link:\n\u001b[0;32m----> 3\u001b[0m     \u001b[38;5;28;01mif\u001b[39;00m \u001b[43mx\u001b[49m\u001b[43m[\u001b[49m\u001b[43ma\u001b[49m\u001b[43m]\u001b[49m\u001b[38;5;241;43m.\u001b[39;49m\u001b[43mx\u001b[49m \u001b[38;5;241m>\u001b[39m \u001b[38;5;241m0.5\u001b[39m:\n\u001b[1;32m      4\u001b[0m         \u001b[38;5;28mprint\u001b[39m(\u001b[38;5;124mf\u001b[39m\u001b[38;5;124m\"\u001b[39m\u001b[38;5;124m  - Link \u001b[39m\u001b[38;5;132;01m{\u001b[39;00ma\u001b[38;5;132;01m}\u001b[39;00m\u001b[38;5;124m\"\u001b[39m)\n\u001b[1;32m      6\u001b[0m \u001b[38;5;28mprint\u001b[39m(\u001b[38;5;124m\"\u001b[39m\u001b[38;5;130;01m\\n\u001b[39;00m\u001b[38;5;124m🚗 Path selezionati per EV:\u001b[39m\u001b[38;5;124m\"\u001b[39m)\n",
      "File \u001b[0;32msrc/gurobipy/var.pxi:125\u001b[0m, in \u001b[0;36mgurobipy.Var.__getattr__\u001b[0;34m()\u001b[0m\n",
      "File \u001b[0;32msrc/gurobipy/var.pxi:153\u001b[0m, in \u001b[0;36mgurobipy.Var.getAttr\u001b[0;34m()\u001b[0m\n",
      "File \u001b[0;32msrc/gurobipy/attrutil.pxi:100\u001b[0m, in \u001b[0;36mgurobipy.__getattr\u001b[0;34m()\u001b[0m\n",
      "\u001b[0;31mAttributeError\u001b[0m: Unable to retrieve attribute 'x'"
     ]
    }
   ],
   "source": [
    "print(\"\\n🔌 Link selezionati per WCL:\")\n",
    "for a in link:\n",
    "    if x[a].x > 0.5:\n",
    "        print(f\"  - Link {a}\")\n",
    "        \n",
    "print(\"\\n🚗 Path selezionati per EV:\")\n",
    "for p in range(len(paths)):\n",
    "    if y[\"EV\", p].X > 0.5:\n",
    "        print(f\"  - Path {paths[p]}\")\n",
    "        \n",
    "print(\"\\n🔋 Stato di energia B[a, p]:\")\n",
    "for p in range(len(paths)):\n",
    "    for a in link:\n",
    "        if (a, p) in B:\n",
    "            val = B[a, p].X\n",
    "            if val > 1e-4:\n",
    "                print(f\"  B[{a}, {p}] = {val:.4f}\")\n",
    "                \n",
    "print(\"\\n📈 Flusso in entrata e uscita (solo se > 0):\")\n",
    "for a in link:\n",
    "    for t in np.round(np.arange(0, T + timestep, timestep), 4):\n",
    "        for m in M:\n",
    "            if u[a, m, t].X > 1e-3 or v[a, m, t].X > 1e-3:\n",
    "                print(f\"  t={t:.2f}, link={a}, tipo={m}: u = {u[a,m,t].X:.2f}, v = {v[a,m,t].X:.2f}\")\n",
    "                \n",
    "print(\"\\n↔️ Flusso f[a, b, m, t] (solo se > 0):\")\n",
    "for a in link:\n",
    "    for b in link:\n",
    "        for m in M:\n",
    "            for t in np.round(np.arange(0, T + timestep, timestep), 4):\n",
    "                if f[a, b, m, t].X > 1e-3:\n",
    "                    print(f\"  f[{a},{b},{m},{t:.2f}] = {f[a,b,m,t].X:.2f}\")\n",
    "                    \n",
    "print(f\"\\n🎯 Valore funzione obiettivo (outflow): {WCL.ObjVal:.2f}\")"
   ]
  }
 ],
 "metadata": {
  "kernelspec": {
   "display_name": "Python 3 (ipykernel)",
   "language": "python",
   "name": "python3"
  },
  "language_info": {
   "codemirror_mode": {
    "name": "ipython",
    "version": 3
   },
   "file_extension": ".py",
   "mimetype": "text/x-python",
   "name": "python",
   "nbconvert_exporter": "python",
   "pygments_lexer": "ipython3",
   "version": "3.11.3"
  }
 },
 "nbformat": 4,
 "nbformat_minor": 5
}
