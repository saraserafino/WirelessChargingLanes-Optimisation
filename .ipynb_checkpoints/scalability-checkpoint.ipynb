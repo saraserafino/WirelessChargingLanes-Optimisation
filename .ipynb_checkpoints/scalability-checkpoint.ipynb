{
 "cells": [
  {
   "cell_type": "markdown",
   "id": "9f4e211c",
   "metadata": {},
   "source": [
    "# Scalability\n",
    "Notebook for performing the scalability analysis, following Grid Networks of section 4.2 of the paper.\n",
    "\n",
    "_Nota per noi: to produce that/several plot in which you perform scalability analysis and the actual experiments of the test. The code must take less than one night to run._"
   ]
  }
 ],
 "metadata": {
  "kernelspec": {
   "display_name": "Python 3 (ipykernel)",
   "language": "python",
   "name": "python3"
  },
  "language_info": {
   "codemirror_mode": {
    "name": "ipython",
    "version": 3
   },
   "file_extension": ".py",
   "mimetype": "text/x-python",
   "name": "python",
   "nbconvert_exporter": "python",
   "pygments_lexer": "ipython3",
   "version": "3.11.3"
  }
 },
 "nbformat": 4,
 "nbformat_minor": 5
}
